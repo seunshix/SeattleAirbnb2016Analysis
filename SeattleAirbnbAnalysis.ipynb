{
 "nbformat": 4,
 "nbformat_minor": 0,
 "metadata": {
  "colab": {
   "provenance": []
  },
  "kernelspec": {
   "name": "python3",
   "display_name": "Python 3"
  },
  "language_info": {
   "name": "python"
  },
  "accelerator": "GPU",
  "gpuClass": "standard"
 },
 "cells": [
  {
   "cell_type": "markdown",
   "source": [
    "##Imports"
   ],
   "metadata": {
    "id": "rndhBUj8TzR7",
    "pycharm": {
     "name": "#%% md\n"
    }
   }
  },
  {
   "cell_type": "code",
   "execution_count": null,
   "metadata": {
    "id": "wdr6sANoToFN",
    "pycharm": {
     "name": "#%%\n"
    }
   },
   "outputs": [],
   "source": [
    "import pandas as pd\n",
    "import numpy as np\n",
    "import re\n",
    "import matplotlib.pyplot as plt\n",
    "from sklearn.feature_extraction.text import CountVectorizer\n",
    "%matplotlib inline"
   ]
  },
  {
   "cell_type": "code",
   "source": [
    "calendar = pd.read_csv('/content/drive/MyDrive/Seattle Airbnb/calendar.csv')\n",
    "listings = pd.read_csv('/content/drive/MyDrive/Seattle Airbnb/listings.csv')\n",
    "reviews = pd.read_csv('/content/drive/MyDrive/Seattle Airbnb/reviews.csv')"
   ],
   "metadata": {
    "id": "GvHoKFPYT6BM",
    "pycharm": {
     "name": "#%%\n"
    }
   },
   "execution_count": null,
   "outputs": []
  },
  {
   "cell_type": "markdown",
   "source": [
    "#Understanding the Data\n",
    "\n",
    "First, I would like to know what each dataset contains, it's dimensions and data types."
   ],
   "metadata": {
    "id": "AeOSGqf9Tsn-",
    "pycharm": {
     "name": "#%% md\n"
    }
   }
  },
  {
   "cell_type": "markdown",
   "source": [
    "## calendar data"
   ],
   "metadata": {
    "id": "ZR-pwckgT_1v",
    "pycharm": {
     "name": "#%% md\n"
    }
   }
  },
  {
   "cell_type": "code",
   "source": [
    "# peeking at the first few rows of the dataset \n",
    "calendar.head()"
   ],
   "metadata": {
    "colab": {
     "base_uri": "https://localhost:8080/"
    },
    "id": "tq98YIFpT_h2",
    "outputId": "65df87b0-9710-4004-b9a2-994a31eac33e",
    "pycharm": {
     "name": "#%%\n"
    }
   },
   "execution_count": null,
   "outputs": [
    {
     "output_type": "execute_result",
     "data": {
      "text/plain": [
       "   listing_id        date available   price\n",
       "0      241032  2016-01-04         t  $85.00\n",
       "1      241032  2016-01-05         t  $85.00\n",
       "2      241032  2016-01-06         f     NaN\n",
       "3      241032  2016-01-07         f     NaN\n",
       "4      241032  2016-01-08         f     NaN"
      ],
      "text/html": [
       "\n",
       "  <div id=\"df-486398ff-fa90-4520-9c3c-4b48113ca1f7\">\n",
       "    <div class=\"colab-df-container\">\n",
       "      <div>\n",
       "<style scoped>\n",
       "    .dataframe tbody tr th:only-of-type {\n",
       "        vertical-align: middle;\n",
       "    }\n",
       "\n",
       "    .dataframe tbody tr th {\n",
       "        vertical-align: top;\n",
       "    }\n",
       "\n",
       "    .dataframe thead th {\n",
       "        text-align: right;\n",
       "    }\n",
       "</style>\n",
       "<table border=\"1\" class=\"dataframe\">\n",
       "  <thead>\n",
       "    <tr style=\"text-align: right;\">\n",
       "      <th></th>\n",
       "      <th>listing_id</th>\n",
       "      <th>date</th>\n",
       "      <th>available</th>\n",
       "      <th>price</th>\n",
       "    </tr>\n",
       "  </thead>\n",
       "  <tbody>\n",
       "    <tr>\n",
       "      <th>0</th>\n",
       "      <td>241032</td>\n",
       "      <td>2016-01-04</td>\n",
       "      <td>t</td>\n",
       "      <td>$85.00</td>\n",
       "    </tr>\n",
       "    <tr>\n",
       "      <th>1</th>\n",
       "      <td>241032</td>\n",
       "      <td>2016-01-05</td>\n",
       "      <td>t</td>\n",
       "      <td>$85.00</td>\n",
       "    </tr>\n",
       "    <tr>\n",
       "      <th>2</th>\n",
       "      <td>241032</td>\n",
       "      <td>2016-01-06</td>\n",
       "      <td>f</td>\n",
       "      <td>NaN</td>\n",
       "    </tr>\n",
       "    <tr>\n",
       "      <th>3</th>\n",
       "      <td>241032</td>\n",
       "      <td>2016-01-07</td>\n",
       "      <td>f</td>\n",
       "      <td>NaN</td>\n",
       "    </tr>\n",
       "    <tr>\n",
       "      <th>4</th>\n",
       "      <td>241032</td>\n",
       "      <td>2016-01-08</td>\n",
       "      <td>f</td>\n",
       "      <td>NaN</td>\n",
       "    </tr>\n",
       "  </tbody>\n",
       "</table>\n",
       "</div>\n",
       "      <button class=\"colab-df-convert\" onclick=\"convertToInteractive('df-486398ff-fa90-4520-9c3c-4b48113ca1f7')\"\n",
       "              title=\"Convert this dataframe to an interactive table.\"\n",
       "              style=\"display:none;\">\n",
       "        \n",
       "  <svg xmlns=\"http://www.w3.org/2000/svg\" height=\"24px\"viewBox=\"0 0 24 24\"\n",
       "       width=\"24px\">\n",
       "    <path d=\"M0 0h24v24H0V0z\" fill=\"none\"/>\n",
       "    <path d=\"M18.56 5.44l.94 2.06.94-2.06 2.06-.94-2.06-.94-.94-2.06-.94 2.06-2.06.94zm-11 1L8.5 8.5l.94-2.06 2.06-.94-2.06-.94L8.5 2.5l-.94 2.06-2.06.94zm10 10l.94 2.06.94-2.06 2.06-.94-2.06-.94-.94-2.06-.94 2.06-2.06.94z\"/><path d=\"M17.41 7.96l-1.37-1.37c-.4-.4-.92-.59-1.43-.59-.52 0-1.04.2-1.43.59L10.3 9.45l-7.72 7.72c-.78.78-.78 2.05 0 2.83L4 21.41c.39.39.9.59 1.41.59.51 0 1.02-.2 1.41-.59l7.78-7.78 2.81-2.81c.8-.78.8-2.07 0-2.86zM5.41 20L4 18.59l7.72-7.72 1.47 1.35L5.41 20z\"/>\n",
       "  </svg>\n",
       "      </button>\n",
       "      \n",
       "  <style>\n",
       "    .colab-df-container {\n",
       "      display:flex;\n",
       "      flex-wrap:wrap;\n",
       "      gap: 12px;\n",
       "    }\n",
       "\n",
       "    .colab-df-convert {\n",
       "      background-color: #E8F0FE;\n",
       "      border: none;\n",
       "      border-radius: 50%;\n",
       "      cursor: pointer;\n",
       "      display: none;\n",
       "      fill: #1967D2;\n",
       "      height: 32px;\n",
       "      padding: 0 0 0 0;\n",
       "      width: 32px;\n",
       "    }\n",
       "\n",
       "    .colab-df-convert:hover {\n",
       "      background-color: #E2EBFA;\n",
       "      box-shadow: 0px 1px 2px rgba(60, 64, 67, 0.3), 0px 1px 3px 1px rgba(60, 64, 67, 0.15);\n",
       "      fill: #174EA6;\n",
       "    }\n",
       "\n",
       "    [theme=dark] .colab-df-convert {\n",
       "      background-color: #3B4455;\n",
       "      fill: #D2E3FC;\n",
       "    }\n",
       "\n",
       "    [theme=dark] .colab-df-convert:hover {\n",
       "      background-color: #434B5C;\n",
       "      box-shadow: 0px 1px 3px 1px rgba(0, 0, 0, 0.15);\n",
       "      filter: drop-shadow(0px 1px 2px rgba(0, 0, 0, 0.3));\n",
       "      fill: #FFFFFF;\n",
       "    }\n",
       "  </style>\n",
       "\n",
       "      <script>\n",
       "        const buttonEl =\n",
       "          document.querySelector('#df-486398ff-fa90-4520-9c3c-4b48113ca1f7 button.colab-df-convert');\n",
       "        buttonEl.style.display =\n",
       "          google.colab.kernel.accessAllowed ? 'block' : 'none';\n",
       "\n",
       "        async function convertToInteractive(key) {\n",
       "          const element = document.querySelector('#df-486398ff-fa90-4520-9c3c-4b48113ca1f7');\n",
       "          const dataTable =\n",
       "            await google.colab.kernel.invokeFunction('convertToInteractive',\n",
       "                                                     [key], {});\n",
       "          if (!dataTable) return;\n",
       "\n",
       "          const docLinkHtml = 'Like what you see? Visit the ' +\n",
       "            '<a target=\"_blank\" href=https://colab.research.google.com/notebooks/data_table.ipynb>data table notebook</a>'\n",
       "            + ' to learn more about interactive tables.';\n",
       "          element.innerHTML = '';\n",
       "          dataTable['output_type'] = 'display_data';\n",
       "          await google.colab.output.renderOutput(dataTable, element);\n",
       "          const docLink = document.createElement('div');\n",
       "          docLink.innerHTML = docLinkHtml;\n",
       "          element.appendChild(docLink);\n",
       "        }\n",
       "      </script>\n",
       "    </div>\n",
       "  </div>\n",
       "  "
      ]
     },
     "metadata": {},
     "execution_count": 3
    }
   ]
  },
  {
   "cell_type": "code",
   "source": [
    "# detailed summary of information about the datset\n",
    "calendar.info()"
   ],
   "metadata": {
    "colab": {
     "base_uri": "https://localhost:8080/"
    },
    "id": "NiqQmWj2UFZX",
    "outputId": "e17137b0-1f22-487d-961e-8003d8f671fd",
    "pycharm": {
     "name": "#%%\n"
    }
   },
   "execution_count": null,
   "outputs": [
    {
     "output_type": "stream",
     "name": "stdout",
     "text": [
      "<class 'pandas.core.frame.DataFrame'>\n",
      "RangeIndex: 1393570 entries, 0 to 1393569\n",
      "Data columns (total 4 columns):\n",
      " #   Column      Non-Null Count    Dtype \n",
      "---  ------      --------------    ----- \n",
      " 0   listing_id  1393570 non-null  int64 \n",
      " 1   date        1393570 non-null  object\n",
      " 2   available   1393570 non-null  object\n",
      " 3   price       934542 non-null   object\n",
      "dtypes: int64(1), object(3)\n",
      "memory usage: 42.5+ MB\n"
     ]
    }
   ]
  },
  {
   "cell_type": "markdown",
   "source": [
    "The calendar dataset has 1393570 rows and 4 columns. The **price** column is of object type but should be treated as integer or float. The **date** column can also be splited into **year, month and date** for better access and analysis."
   ],
   "metadata": {
    "id": "INJt6YZPN0f8",
    "pycharm": {
     "name": "#%% md\n"
    }
   }
  },
  {
   "cell_type": "code",
   "source": [
    "# No Missing Values\n",
    "no_missing_values = set(calendar.columns[calendar.isnull().mean() == 0])\n",
    "print(f'The following columns have no null values {no_missing_values}')\n",
    "\n",
    "# Missing Values\n",
    "missing_values = set(calendar.columns[calendar.isnull().mean() > 0])\n",
    "print(f'The following columns have null values {missing_values}')"
   ],
   "metadata": {
    "colab": {
     "base_uri": "https://localhost:8080/"
    },
    "id": "7ln3tNIdUIeG",
    "outputId": "12c1a428-7d48-4c4f-c978-ab72c0ef79d7",
    "pycharm": {
     "name": "#%%\n"
    }
   },
   "execution_count": null,
   "outputs": [
    {
     "output_type": "stream",
     "name": "stdout",
     "text": [
      "The following columns have no null values {'listing_id', 'date', 'available'}\n",
      "The following columns have null values {'price'}\n"
     ]
    }
   ]
  },
  {
   "cell_type": "code",
   "source": [
    "# N/B: rows with 'f' values do not include a price value(i.e null)\n",
    "check_f = calendar[(calendar['price'] == 'f') & (calendar['available'] == np.nan)].shape[0]\n",
    "print(check_f)"
   ],
   "metadata": {
    "id": "29K3colKUZs2",
    "colab": {
     "base_uri": "https://localhost:8080/"
    },
    "outputId": "68e373aa-c192-4f91-930c-21be4f587654",
    "pycharm": {
     "name": "#%%\n"
    }
   },
   "execution_count": null,
   "outputs": [
    {
     "output_type": "stream",
     "name": "stdout",
     "text": [
      "0\n"
     ]
    }
   ]
  },
  {
   "cell_type": "code",
   "source": [
    "'''\n",
    "Data Cleaning for the dataset\n",
    "\n",
    "1. For the price column, make the column of type 'float' and remove '$' from the\n",
    "   column and lastly fill the null prices with '0'\n",
    "2. For the date column, split each date into its respective year, month and date\n",
    "3. For thw available column, replave 't' values with 1 and 'f' values with 0\n",
    "'''\n",
    "\n",
    "calendar['price'].replace('[$,]', '', regex=True, inplace=True)\n",
    "calendar['price'].fillna(0, inplace=True)\n",
    "calendar['price'] = calendar['price'].astype('float')\n",
    "\n",
    "calendar.date = pd.to_datetime(calendar.date) \n",
    "calendar['year'] = calendar['date'].dt.year\n",
    "calendar['month'] = calendar['date'].dt.month\n",
    "calendar['day'] = calendar['date'].dt.day\n",
    "\n",
    "calendar['available'].replace({'t': 1, 'f': 0}, inplace = True) \n"
   ],
   "metadata": {
    "id": "rcE1Av2JULzc",
    "pycharm": {
     "name": "#%%\n"
    }
   },
   "execution_count": null,
   "outputs": []
  },
  {
   "cell_type": "code",
   "source": [
    "# dropping the date column\n",
    "calendar.drop('date', axis = 1, inplace = True)"
   ],
   "metadata": {
    "id": "rI7B9gPRU00b",
    "pycharm": {
     "name": "#%%\n"
    }
   },
   "execution_count": null,
   "outputs": []
  },
  {
   "cell_type": "code",
   "source": [
    "# dropping the rows that are of year 2017 so year 2016 is main focus of analysish\n",
    "\n",
    "calendar.drop(calendar.index[calendar['year'] == 2017], inplace = True)"
   ],
   "metadata": {
    "id": "rfygm_vQUcI4",
    "pycharm": {
     "name": "#%%\n"
    }
   },
   "execution_count": null,
   "outputs": []
  },
  {
   "cell_type": "code",
   "source": [
    "# let's take a look at the dataset after cleaning\n",
    "calendar.head()"
   ],
   "metadata": {
    "colab": {
     "base_uri": "https://localhost:8080/"
    },
    "id": "dPl8TIaDUORG",
    "outputId": "9fdeb2c7-2fb6-4f15-f68e-306bddbff261",
    "pycharm": {
     "name": "#%%\n"
    }
   },
   "execution_count": null,
   "outputs": [
    {
     "output_type": "execute_result",
     "data": {
      "text/plain": [
       "   listing_id  available  price  year  month  day\n",
       "0      241032          1   85.0  2016      1    4\n",
       "1      241032          1   85.0  2016      1    5\n",
       "2      241032          0    0.0  2016      1    6\n",
       "3      241032          0    0.0  2016      1    7\n",
       "4      241032          0    0.0  2016      1    8"
      ],
      "text/html": [
       "\n",
       "  <div id=\"df-71b5adc5-f29e-4728-b114-1dfd400e8657\">\n",
       "    <div class=\"colab-df-container\">\n",
       "      <div>\n",
       "<style scoped>\n",
       "    .dataframe tbody tr th:only-of-type {\n",
       "        vertical-align: middle;\n",
       "    }\n",
       "\n",
       "    .dataframe tbody tr th {\n",
       "        vertical-align: top;\n",
       "    }\n",
       "\n",
       "    .dataframe thead th {\n",
       "        text-align: right;\n",
       "    }\n",
       "</style>\n",
       "<table border=\"1\" class=\"dataframe\">\n",
       "  <thead>\n",
       "    <tr style=\"text-align: right;\">\n",
       "      <th></th>\n",
       "      <th>listing_id</th>\n",
       "      <th>available</th>\n",
       "      <th>price</th>\n",
       "      <th>year</th>\n",
       "      <th>month</th>\n",
       "      <th>day</th>\n",
       "    </tr>\n",
       "  </thead>\n",
       "  <tbody>\n",
       "    <tr>\n",
       "      <th>0</th>\n",
       "      <td>241032</td>\n",
       "      <td>1</td>\n",
       "      <td>85.0</td>\n",
       "      <td>2016</td>\n",
       "      <td>1</td>\n",
       "      <td>4</td>\n",
       "    </tr>\n",
       "    <tr>\n",
       "      <th>1</th>\n",
       "      <td>241032</td>\n",
       "      <td>1</td>\n",
       "      <td>85.0</td>\n",
       "      <td>2016</td>\n",
       "      <td>1</td>\n",
       "      <td>5</td>\n",
       "    </tr>\n",
       "    <tr>\n",
       "      <th>2</th>\n",
       "      <td>241032</td>\n",
       "      <td>0</td>\n",
       "      <td>0.0</td>\n",
       "      <td>2016</td>\n",
       "      <td>1</td>\n",
       "      <td>6</td>\n",
       "    </tr>\n",
       "    <tr>\n",
       "      <th>3</th>\n",
       "      <td>241032</td>\n",
       "      <td>0</td>\n",
       "      <td>0.0</td>\n",
       "      <td>2016</td>\n",
       "      <td>1</td>\n",
       "      <td>7</td>\n",
       "    </tr>\n",
       "    <tr>\n",
       "      <th>4</th>\n",
       "      <td>241032</td>\n",
       "      <td>0</td>\n",
       "      <td>0.0</td>\n",
       "      <td>2016</td>\n",
       "      <td>1</td>\n",
       "      <td>8</td>\n",
       "    </tr>\n",
       "  </tbody>\n",
       "</table>\n",
       "</div>\n",
       "      <button class=\"colab-df-convert\" onclick=\"convertToInteractive('df-71b5adc5-f29e-4728-b114-1dfd400e8657')\"\n",
       "              title=\"Convert this dataframe to an interactive table.\"\n",
       "              style=\"display:none;\">\n",
       "        \n",
       "  <svg xmlns=\"http://www.w3.org/2000/svg\" height=\"24px\"viewBox=\"0 0 24 24\"\n",
       "       width=\"24px\">\n",
       "    <path d=\"M0 0h24v24H0V0z\" fill=\"none\"/>\n",
       "    <path d=\"M18.56 5.44l.94 2.06.94-2.06 2.06-.94-2.06-.94-.94-2.06-.94 2.06-2.06.94zm-11 1L8.5 8.5l.94-2.06 2.06-.94-2.06-.94L8.5 2.5l-.94 2.06-2.06.94zm10 10l.94 2.06.94-2.06 2.06-.94-2.06-.94-.94-2.06-.94 2.06-2.06.94z\"/><path d=\"M17.41 7.96l-1.37-1.37c-.4-.4-.92-.59-1.43-.59-.52 0-1.04.2-1.43.59L10.3 9.45l-7.72 7.72c-.78.78-.78 2.05 0 2.83L4 21.41c.39.39.9.59 1.41.59.51 0 1.02-.2 1.41-.59l7.78-7.78 2.81-2.81c.8-.78.8-2.07 0-2.86zM5.41 20L4 18.59l7.72-7.72 1.47 1.35L5.41 20z\"/>\n",
       "  </svg>\n",
       "      </button>\n",
       "      \n",
       "  <style>\n",
       "    .colab-df-container {\n",
       "      display:flex;\n",
       "      flex-wrap:wrap;\n",
       "      gap: 12px;\n",
       "    }\n",
       "\n",
       "    .colab-df-convert {\n",
       "      background-color: #E8F0FE;\n",
       "      border: none;\n",
       "      border-radius: 50%;\n",
       "      cursor: pointer;\n",
       "      display: none;\n",
       "      fill: #1967D2;\n",
       "      height: 32px;\n",
       "      padding: 0 0 0 0;\n",
       "      width: 32px;\n",
       "    }\n",
       "\n",
       "    .colab-df-convert:hover {\n",
       "      background-color: #E2EBFA;\n",
       "      box-shadow: 0px 1px 2px rgba(60, 64, 67, 0.3), 0px 1px 3px 1px rgba(60, 64, 67, 0.15);\n",
       "      fill: #174EA6;\n",
       "    }\n",
       "\n",
       "    [theme=dark] .colab-df-convert {\n",
       "      background-color: #3B4455;\n",
       "      fill: #D2E3FC;\n",
       "    }\n",
       "\n",
       "    [theme=dark] .colab-df-convert:hover {\n",
       "      background-color: #434B5C;\n",
       "      box-shadow: 0px 1px 3px 1px rgba(0, 0, 0, 0.15);\n",
       "      filter: drop-shadow(0px 1px 2px rgba(0, 0, 0, 0.3));\n",
       "      fill: #FFFFFF;\n",
       "    }\n",
       "  </style>\n",
       "\n",
       "      <script>\n",
       "        const buttonEl =\n",
       "          document.querySelector('#df-71b5adc5-f29e-4728-b114-1dfd400e8657 button.colab-df-convert');\n",
       "        buttonEl.style.display =\n",
       "          google.colab.kernel.accessAllowed ? 'block' : 'none';\n",
       "\n",
       "        async function convertToInteractive(key) {\n",
       "          const element = document.querySelector('#df-71b5adc5-f29e-4728-b114-1dfd400e8657');\n",
       "          const dataTable =\n",
       "            await google.colab.kernel.invokeFunction('convertToInteractive',\n",
       "                                                     [key], {});\n",
       "          if (!dataTable) return;\n",
       "\n",
       "          const docLinkHtml = 'Like what you see? Visit the ' +\n",
       "            '<a target=\"_blank\" href=https://colab.research.google.com/notebooks/data_table.ipynb>data table notebook</a>'\n",
       "            + ' to learn more about interactive tables.';\n",
       "          element.innerHTML = '';\n",
       "          dataTable['output_type'] = 'display_data';\n",
       "          await google.colab.output.renderOutput(dataTable, element);\n",
       "          const docLink = document.createElement('div');\n",
       "          docLink.innerHTML = docLinkHtml;\n",
       "          element.appendChild(docLink);\n",
       "        }\n",
       "      </script>\n",
       "    </div>\n",
       "  </div>\n",
       "  "
      ]
     },
     "metadata": {},
     "execution_count": 10
    }
   ]
  },
  {
   "cell_type": "markdown",
   "source": [
    "## listings data\n"
   ],
   "metadata": {
    "id": "Tkbj-v-_XwBA",
    "pycharm": {
     "name": "#%% md\n"
    }
   }
  },
  {
   "cell_type": "code",
   "source": [
    "# peeking at the first few rows of the dataset \n",
    "listings.head()"
   ],
   "metadata": {
    "colab": {
     "base_uri": "https://localhost:8080/"
    },
    "id": "lww2ZyUEXzg3",
    "outputId": "e67b7c69-e4ae-4332-973b-05d02f13e8be",
    "pycharm": {
     "name": "#%%\n"
    }
   },
   "execution_count": null,
   "outputs": [
    {
     "output_type": "execute_result",
     "data": {
      "text/plain": [
       "        id                           listing_url       scrape_id last_scraped  \\\n",
       "0   241032   https://www.airbnb.com/rooms/241032  20160104002432   2016-01-04   \n",
       "1   953595   https://www.airbnb.com/rooms/953595  20160104002432   2016-01-04   \n",
       "2  3308979  https://www.airbnb.com/rooms/3308979  20160104002432   2016-01-04   \n",
       "3  7421966  https://www.airbnb.com/rooms/7421966  20160104002432   2016-01-04   \n",
       "4   278830   https://www.airbnb.com/rooms/278830  20160104002432   2016-01-04   \n",
       "\n",
       "                                  name  \\\n",
       "0         Stylish Queen Anne Apartment   \n",
       "1   Bright & Airy Queen Anne Apartment   \n",
       "2  New Modern House-Amazing water view   \n",
       "3                   Queen Anne Chateau   \n",
       "4       Charming craftsman 3 bdm house   \n",
       "\n",
       "                                             summary  \\\n",
       "0                                                NaN   \n",
       "1  Chemically sensitive? We've removed the irrita...   \n",
       "2  New modern house built in 2013.  Spectacular s...   \n",
       "3  A charming apartment that sits atop Queen Anne...   \n",
       "4  Cozy family craftman house in beautiful neighb...   \n",
       "\n",
       "                                               space  \\\n",
       "0  Make your self at home in this charming one-be...   \n",
       "1  Beautiful, hypoallergenic apartment in an extr...   \n",
       "2  Our house is modern, light and fresh with a wa...   \n",
       "3                                                NaN   \n",
       "4  Cozy family craftman house in beautiful neighb...   \n",
       "\n",
       "                                         description experiences_offered  \\\n",
       "0  Make your self at home in this charming one-be...                none   \n",
       "1  Chemically sensitive? We've removed the irrita...                none   \n",
       "2  New modern house built in 2013.  Spectacular s...                none   \n",
       "3  A charming apartment that sits atop Queen Anne...                none   \n",
       "4  Cozy family craftman house in beautiful neighb...                none   \n",
       "\n",
       "                               neighborhood_overview  ... review_scores_value  \\\n",
       "0                                                NaN  ...                10.0   \n",
       "1  Queen Anne is a wonderful, truly functional vi...  ...                10.0   \n",
       "2  Upper Queen Anne is a charming neighborhood fu...  ...                10.0   \n",
       "3                                                NaN  ...                 NaN   \n",
       "4  We are in the beautiful neighborhood of Queen ...  ...                 9.0   \n",
       "\n",
       "  requires_license license jurisdiction_names instant_bookable  \\\n",
       "0                f     NaN         WASHINGTON                f   \n",
       "1                f     NaN         WASHINGTON                f   \n",
       "2                f     NaN         WASHINGTON                f   \n",
       "3                f     NaN         WASHINGTON                f   \n",
       "4                f     NaN         WASHINGTON                f   \n",
       "\n",
       "  cancellation_policy  require_guest_profile_picture  \\\n",
       "0            moderate                              f   \n",
       "1              strict                              t   \n",
       "2              strict                              f   \n",
       "3            flexible                              f   \n",
       "4              strict                              f   \n",
       "\n",
       "  require_guest_phone_verification calculated_host_listings_count  \\\n",
       "0                                f                              2   \n",
       "1                                t                              6   \n",
       "2                                f                              2   \n",
       "3                                f                              1   \n",
       "4                                f                              1   \n",
       "\n",
       "  reviews_per_month  \n",
       "0              4.07  \n",
       "1              1.48  \n",
       "2              1.15  \n",
       "3               NaN  \n",
       "4              0.89  \n",
       "\n",
       "[5 rows x 92 columns]"
      ],
      "text/html": [
       "\n",
       "  <div id=\"df-67d018d7-6f48-4b6f-8ceb-3528958afa63\">\n",
       "    <div class=\"colab-df-container\">\n",
       "      <div>\n",
       "<style scoped>\n",
       "    .dataframe tbody tr th:only-of-type {\n",
       "        vertical-align: middle;\n",
       "    }\n",
       "\n",
       "    .dataframe tbody tr th {\n",
       "        vertical-align: top;\n",
       "    }\n",
       "\n",
       "    .dataframe thead th {\n",
       "        text-align: right;\n",
       "    }\n",
       "</style>\n",
       "<table border=\"1\" class=\"dataframe\">\n",
       "  <thead>\n",
       "    <tr style=\"text-align: right;\">\n",
       "      <th></th>\n",
       "      <th>id</th>\n",
       "      <th>listing_url</th>\n",
       "      <th>scrape_id</th>\n",
       "      <th>last_scraped</th>\n",
       "      <th>name</th>\n",
       "      <th>summary</th>\n",
       "      <th>space</th>\n",
       "      <th>description</th>\n",
       "      <th>experiences_offered</th>\n",
       "      <th>neighborhood_overview</th>\n",
       "      <th>...</th>\n",
       "      <th>review_scores_value</th>\n",
       "      <th>requires_license</th>\n",
       "      <th>license</th>\n",
       "      <th>jurisdiction_names</th>\n",
       "      <th>instant_bookable</th>\n",
       "      <th>cancellation_policy</th>\n",
       "      <th>require_guest_profile_picture</th>\n",
       "      <th>require_guest_phone_verification</th>\n",
       "      <th>calculated_host_listings_count</th>\n",
       "      <th>reviews_per_month</th>\n",
       "    </tr>\n",
       "  </thead>\n",
       "  <tbody>\n",
       "    <tr>\n",
       "      <th>0</th>\n",
       "      <td>241032</td>\n",
       "      <td>https://www.airbnb.com/rooms/241032</td>\n",
       "      <td>20160104002432</td>\n",
       "      <td>2016-01-04</td>\n",
       "      <td>Stylish Queen Anne Apartment</td>\n",
       "      <td>NaN</td>\n",
       "      <td>Make your self at home in this charming one-be...</td>\n",
       "      <td>Make your self at home in this charming one-be...</td>\n",
       "      <td>none</td>\n",
       "      <td>NaN</td>\n",
       "      <td>...</td>\n",
       "      <td>10.0</td>\n",
       "      <td>f</td>\n",
       "      <td>NaN</td>\n",
       "      <td>WASHINGTON</td>\n",
       "      <td>f</td>\n",
       "      <td>moderate</td>\n",
       "      <td>f</td>\n",
       "      <td>f</td>\n",
       "      <td>2</td>\n",
       "      <td>4.07</td>\n",
       "    </tr>\n",
       "    <tr>\n",
       "      <th>1</th>\n",
       "      <td>953595</td>\n",
       "      <td>https://www.airbnb.com/rooms/953595</td>\n",
       "      <td>20160104002432</td>\n",
       "      <td>2016-01-04</td>\n",
       "      <td>Bright &amp; Airy Queen Anne Apartment</td>\n",
       "      <td>Chemically sensitive? We've removed the irrita...</td>\n",
       "      <td>Beautiful, hypoallergenic apartment in an extr...</td>\n",
       "      <td>Chemically sensitive? We've removed the irrita...</td>\n",
       "      <td>none</td>\n",
       "      <td>Queen Anne is a wonderful, truly functional vi...</td>\n",
       "      <td>...</td>\n",
       "      <td>10.0</td>\n",
       "      <td>f</td>\n",
       "      <td>NaN</td>\n",
       "      <td>WASHINGTON</td>\n",
       "      <td>f</td>\n",
       "      <td>strict</td>\n",
       "      <td>t</td>\n",
       "      <td>t</td>\n",
       "      <td>6</td>\n",
       "      <td>1.48</td>\n",
       "    </tr>\n",
       "    <tr>\n",
       "      <th>2</th>\n",
       "      <td>3308979</td>\n",
       "      <td>https://www.airbnb.com/rooms/3308979</td>\n",
       "      <td>20160104002432</td>\n",
       "      <td>2016-01-04</td>\n",
       "      <td>New Modern House-Amazing water view</td>\n",
       "      <td>New modern house built in 2013.  Spectacular s...</td>\n",
       "      <td>Our house is modern, light and fresh with a wa...</td>\n",
       "      <td>New modern house built in 2013.  Spectacular s...</td>\n",
       "      <td>none</td>\n",
       "      <td>Upper Queen Anne is a charming neighborhood fu...</td>\n",
       "      <td>...</td>\n",
       "      <td>10.0</td>\n",
       "      <td>f</td>\n",
       "      <td>NaN</td>\n",
       "      <td>WASHINGTON</td>\n",
       "      <td>f</td>\n",
       "      <td>strict</td>\n",
       "      <td>f</td>\n",
       "      <td>f</td>\n",
       "      <td>2</td>\n",
       "      <td>1.15</td>\n",
       "    </tr>\n",
       "    <tr>\n",
       "      <th>3</th>\n",
       "      <td>7421966</td>\n",
       "      <td>https://www.airbnb.com/rooms/7421966</td>\n",
       "      <td>20160104002432</td>\n",
       "      <td>2016-01-04</td>\n",
       "      <td>Queen Anne Chateau</td>\n",
       "      <td>A charming apartment that sits atop Queen Anne...</td>\n",
       "      <td>NaN</td>\n",
       "      <td>A charming apartment that sits atop Queen Anne...</td>\n",
       "      <td>none</td>\n",
       "      <td>NaN</td>\n",
       "      <td>...</td>\n",
       "      <td>NaN</td>\n",
       "      <td>f</td>\n",
       "      <td>NaN</td>\n",
       "      <td>WASHINGTON</td>\n",
       "      <td>f</td>\n",
       "      <td>flexible</td>\n",
       "      <td>f</td>\n",
       "      <td>f</td>\n",
       "      <td>1</td>\n",
       "      <td>NaN</td>\n",
       "    </tr>\n",
       "    <tr>\n",
       "      <th>4</th>\n",
       "      <td>278830</td>\n",
       "      <td>https://www.airbnb.com/rooms/278830</td>\n",
       "      <td>20160104002432</td>\n",
       "      <td>2016-01-04</td>\n",
       "      <td>Charming craftsman 3 bdm house</td>\n",
       "      <td>Cozy family craftman house in beautiful neighb...</td>\n",
       "      <td>Cozy family craftman house in beautiful neighb...</td>\n",
       "      <td>Cozy family craftman house in beautiful neighb...</td>\n",
       "      <td>none</td>\n",
       "      <td>We are in the beautiful neighborhood of Queen ...</td>\n",
       "      <td>...</td>\n",
       "      <td>9.0</td>\n",
       "      <td>f</td>\n",
       "      <td>NaN</td>\n",
       "      <td>WASHINGTON</td>\n",
       "      <td>f</td>\n",
       "      <td>strict</td>\n",
       "      <td>f</td>\n",
       "      <td>f</td>\n",
       "      <td>1</td>\n",
       "      <td>0.89</td>\n",
       "    </tr>\n",
       "  </tbody>\n",
       "</table>\n",
       "<p>5 rows × 92 columns</p>\n",
       "</div>\n",
       "      <button class=\"colab-df-convert\" onclick=\"convertToInteractive('df-67d018d7-6f48-4b6f-8ceb-3528958afa63')\"\n",
       "              title=\"Convert this dataframe to an interactive table.\"\n",
       "              style=\"display:none;\">\n",
       "        \n",
       "  <svg xmlns=\"http://www.w3.org/2000/svg\" height=\"24px\"viewBox=\"0 0 24 24\"\n",
       "       width=\"24px\">\n",
       "    <path d=\"M0 0h24v24H0V0z\" fill=\"none\"/>\n",
       "    <path d=\"M18.56 5.44l.94 2.06.94-2.06 2.06-.94-2.06-.94-.94-2.06-.94 2.06-2.06.94zm-11 1L8.5 8.5l.94-2.06 2.06-.94-2.06-.94L8.5 2.5l-.94 2.06-2.06.94zm10 10l.94 2.06.94-2.06 2.06-.94-2.06-.94-.94-2.06-.94 2.06-2.06.94z\"/><path d=\"M17.41 7.96l-1.37-1.37c-.4-.4-.92-.59-1.43-.59-.52 0-1.04.2-1.43.59L10.3 9.45l-7.72 7.72c-.78.78-.78 2.05 0 2.83L4 21.41c.39.39.9.59 1.41.59.51 0 1.02-.2 1.41-.59l7.78-7.78 2.81-2.81c.8-.78.8-2.07 0-2.86zM5.41 20L4 18.59l7.72-7.72 1.47 1.35L5.41 20z\"/>\n",
       "  </svg>\n",
       "      </button>\n",
       "      \n",
       "  <style>\n",
       "    .colab-df-container {\n",
       "      display:flex;\n",
       "      flex-wrap:wrap;\n",
       "      gap: 12px;\n",
       "    }\n",
       "\n",
       "    .colab-df-convert {\n",
       "      background-color: #E8F0FE;\n",
       "      border: none;\n",
       "      border-radius: 50%;\n",
       "      cursor: pointer;\n",
       "      display: none;\n",
       "      fill: #1967D2;\n",
       "      height: 32px;\n",
       "      padding: 0 0 0 0;\n",
       "      width: 32px;\n",
       "    }\n",
       "\n",
       "    .colab-df-convert:hover {\n",
       "      background-color: #E2EBFA;\n",
       "      box-shadow: 0px 1px 2px rgba(60, 64, 67, 0.3), 0px 1px 3px 1px rgba(60, 64, 67, 0.15);\n",
       "      fill: #174EA6;\n",
       "    }\n",
       "\n",
       "    [theme=dark] .colab-df-convert {\n",
       "      background-color: #3B4455;\n",
       "      fill: #D2E3FC;\n",
       "    }\n",
       "\n",
       "    [theme=dark] .colab-df-convert:hover {\n",
       "      background-color: #434B5C;\n",
       "      box-shadow: 0px 1px 3px 1px rgba(0, 0, 0, 0.15);\n",
       "      filter: drop-shadow(0px 1px 2px rgba(0, 0, 0, 0.3));\n",
       "      fill: #FFFFFF;\n",
       "    }\n",
       "  </style>\n",
       "\n",
       "      <script>\n",
       "        const buttonEl =\n",
       "          document.querySelector('#df-67d018d7-6f48-4b6f-8ceb-3528958afa63 button.colab-df-convert');\n",
       "        buttonEl.style.display =\n",
       "          google.colab.kernel.accessAllowed ? 'block' : 'none';\n",
       "\n",
       "        async function convertToInteractive(key) {\n",
       "          const element = document.querySelector('#df-67d018d7-6f48-4b6f-8ceb-3528958afa63');\n",
       "          const dataTable =\n",
       "            await google.colab.kernel.invokeFunction('convertToInteractive',\n",
       "                                                     [key], {});\n",
       "          if (!dataTable) return;\n",
       "\n",
       "          const docLinkHtml = 'Like what you see? Visit the ' +\n",
       "            '<a target=\"_blank\" href=https://colab.research.google.com/notebooks/data_table.ipynb>data table notebook</a>'\n",
       "            + ' to learn more about interactive tables.';\n",
       "          element.innerHTML = '';\n",
       "          dataTable['output_type'] = 'display_data';\n",
       "          await google.colab.output.renderOutput(dataTable, element);\n",
       "          const docLink = document.createElement('div');\n",
       "          docLink.innerHTML = docLinkHtml;\n",
       "          element.appendChild(docLink);\n",
       "        }\n",
       "      </script>\n",
       "    </div>\n",
       "  </div>\n",
       "  "
      ]
     },
     "metadata": {},
     "execution_count": 11
    }
   ]
  },
  {
   "cell_type": "code",
   "source": [
    "# detailed summary of information about the datset\n",
    "listings.info()"
   ],
   "metadata": {
    "colab": {
     "base_uri": "https://localhost:8080/"
    },
    "id": "4oTdx3RuX6-D",
    "outputId": "d56372bd-16ad-47cb-a1c5-45726fdf061e",
    "pycharm": {
     "name": "#%%\n"
    }
   },
   "execution_count": null,
   "outputs": [
    {
     "output_type": "stream",
     "name": "stdout",
     "text": [
      "<class 'pandas.core.frame.DataFrame'>\n",
      "RangeIndex: 3818 entries, 0 to 3817\n",
      "Data columns (total 92 columns):\n",
      " #   Column                            Non-Null Count  Dtype  \n",
      "---  ------                            --------------  -----  \n",
      " 0   id                                3818 non-null   int64  \n",
      " 1   listing_url                       3818 non-null   object \n",
      " 2   scrape_id                         3818 non-null   int64  \n",
      " 3   last_scraped                      3818 non-null   object \n",
      " 4   name                              3818 non-null   object \n",
      " 5   summary                           3641 non-null   object \n",
      " 6   space                             3249 non-null   object \n",
      " 7   description                       3818 non-null   object \n",
      " 8   experiences_offered               3818 non-null   object \n",
      " 9   neighborhood_overview             2786 non-null   object \n",
      " 10  notes                             2212 non-null   object \n",
      " 11  transit                           2884 non-null   object \n",
      " 12  thumbnail_url                     3498 non-null   object \n",
      " 13  medium_url                        3498 non-null   object \n",
      " 14  picture_url                       3818 non-null   object \n",
      " 15  xl_picture_url                    3498 non-null   object \n",
      " 16  host_id                           3818 non-null   int64  \n",
      " 17  host_url                          3818 non-null   object \n",
      " 18  host_name                         3816 non-null   object \n",
      " 19  host_since                        3816 non-null   object \n",
      " 20  host_location                     3810 non-null   object \n",
      " 21  host_about                        2959 non-null   object \n",
      " 22  host_response_time                3295 non-null   object \n",
      " 23  host_response_rate                3295 non-null   object \n",
      " 24  host_acceptance_rate              3045 non-null   object \n",
      " 25  host_is_superhost                 3816 non-null   object \n",
      " 26  host_thumbnail_url                3816 non-null   object \n",
      " 27  host_picture_url                  3816 non-null   object \n",
      " 28  host_neighbourhood                3518 non-null   object \n",
      " 29  host_listings_count               3816 non-null   float64\n",
      " 30  host_total_listings_count         3816 non-null   float64\n",
      " 31  host_verifications                3818 non-null   object \n",
      " 32  host_has_profile_pic              3816 non-null   object \n",
      " 33  host_identity_verified            3816 non-null   object \n",
      " 34  street                            3818 non-null   object \n",
      " 35  neighbourhood                     3402 non-null   object \n",
      " 36  neighbourhood_cleansed            3818 non-null   object \n",
      " 37  neighbourhood_group_cleansed      3818 non-null   object \n",
      " 38  city                              3818 non-null   object \n",
      " 39  state                             3818 non-null   object \n",
      " 40  zipcode                           3811 non-null   object \n",
      " 41  market                            3818 non-null   object \n",
      " 42  smart_location                    3818 non-null   object \n",
      " 43  country_code                      3818 non-null   object \n",
      " 44  country                           3818 non-null   object \n",
      " 45  latitude                          3818 non-null   float64\n",
      " 46  longitude                         3818 non-null   float64\n",
      " 47  is_location_exact                 3818 non-null   object \n",
      " 48  property_type                     3817 non-null   object \n",
      " 49  room_type                         3818 non-null   object \n",
      " 50  accommodates                      3818 non-null   int64  \n",
      " 51  bathrooms                         3802 non-null   float64\n",
      " 52  bedrooms                          3812 non-null   float64\n",
      " 53  beds                              3817 non-null   float64\n",
      " 54  bed_type                          3818 non-null   object \n",
      " 55  amenities                         3818 non-null   object \n",
      " 56  square_feet                       97 non-null     float64\n",
      " 57  price                             3818 non-null   object \n",
      " 58  weekly_price                      2009 non-null   object \n",
      " 59  monthly_price                     1517 non-null   object \n",
      " 60  security_deposit                  1866 non-null   object \n",
      " 61  cleaning_fee                      2788 non-null   object \n",
      " 62  guests_included                   3818 non-null   int64  \n",
      " 63  extra_people                      3818 non-null   object \n",
      " 64  minimum_nights                    3818 non-null   int64  \n",
      " 65  maximum_nights                    3818 non-null   int64  \n",
      " 66  calendar_updated                  3818 non-null   object \n",
      " 67  has_availability                  3818 non-null   object \n",
      " 68  availability_30                   3818 non-null   int64  \n",
      " 69  availability_60                   3818 non-null   int64  \n",
      " 70  availability_90                   3818 non-null   int64  \n",
      " 71  availability_365                  3818 non-null   int64  \n",
      " 72  calendar_last_scraped             3818 non-null   object \n",
      " 73  number_of_reviews                 3818 non-null   int64  \n",
      " 74  first_review                      3191 non-null   object \n",
      " 75  last_review                       3191 non-null   object \n",
      " 76  review_scores_rating              3171 non-null   float64\n",
      " 77  review_scores_accuracy            3160 non-null   float64\n",
      " 78  review_scores_cleanliness         3165 non-null   float64\n",
      " 79  review_scores_checkin             3160 non-null   float64\n",
      " 80  review_scores_communication       3167 non-null   float64\n",
      " 81  review_scores_location            3163 non-null   float64\n",
      " 82  review_scores_value               3162 non-null   float64\n",
      " 83  requires_license                  3818 non-null   object \n",
      " 84  license                           0 non-null      float64\n",
      " 85  jurisdiction_names                3818 non-null   object \n",
      " 86  instant_bookable                  3818 non-null   object \n",
      " 87  cancellation_policy               3818 non-null   object \n",
      " 88  require_guest_profile_picture     3818 non-null   object \n",
      " 89  require_guest_phone_verification  3818 non-null   object \n",
      " 90  calculated_host_listings_count    3818 non-null   int64  \n",
      " 91  reviews_per_month                 3191 non-null   float64\n",
      "dtypes: float64(17), int64(13), object(62)\n",
      "memory usage: 2.7+ MB\n"
     ]
    }
   ]
  },
  {
   "cell_type": "code",
   "source": [
    "# No Missing Values\n",
    "no_missing_values = set(listings.columns[listings.isnull().mean() == 0])\n",
    "print(f'The following columns have no null values {no_missing_values}')\n",
    "\n",
    "# Missing Values\n",
    "missing_values = set(listings.columns[listings.isnull().mean() > 0])\n",
    "print(f'The following columns have null values {missing_values}')"
   ],
   "metadata": {
    "colab": {
     "base_uri": "https://localhost:8080/"
    },
    "id": "0AfqWgBfSxpc",
    "outputId": "1e85a87f-b83c-4f6a-9c05-f494f3f30466",
    "pycharm": {
     "name": "#%%\n"
    }
   },
   "execution_count": null,
   "outputs": [
    {
     "output_type": "stream",
     "name": "stdout",
     "text": [
      "The following columns have no null values {'smart_location', 'city', 'country', 'longitude', 'requires_license', 'extra_people', 'picture_url', 'availability_90', 'calendar_last_scraped', 'calendar_updated', 'price', 'street', 'host_url', 'neighbourhood_cleansed', 'latitude', 'availability_60', 'host_verifications', 'last_scraped', 'has_availability', 'market', 'room_type', 'accommodates', 'guests_included', 'minimum_nights', 'availability_365', 'neighbourhood_group_cleansed', 'name', 'id', 'jurisdiction_names', 'require_guest_profile_picture', 'listing_url', 'amenities', 'calculated_host_listings_count', 'cancellation_policy', 'description', 'number_of_reviews', 'availability_30', 'host_id', 'scrape_id', 'bed_type', 'state', 'experiences_offered', 'maximum_nights', 'country_code', 'require_guest_phone_verification', 'instant_bookable', 'is_location_exact'}\n",
      "The following columns have null values {'neighborhood_overview', 'security_deposit', 'square_feet', 'first_review', 'host_neighbourhood', 'host_response_time', 'neighbourhood', 'host_acceptance_rate', 'review_scores_cleanliness', 'medium_url', 'host_location', 'host_thumbnail_url', 'host_listings_count', 'review_scores_checkin', 'review_scores_accuracy', 'summary', 'bathrooms', 'beds', 'cleaning_fee', 'review_scores_communication', 'transit', 'host_response_rate', 'host_name', 'notes', 'last_review', 'host_picture_url', 'review_scores_value', 'property_type', 'license', 'host_since', 'host_has_profile_pic', 'space', 'review_scores_rating', 'reviews_per_month', 'xl_picture_url', 'zipcode', 'bedrooms', 'weekly_price', 'host_identity_verified', 'monthly_price', 'review_scores_location', 'thumbnail_url', 'host_is_superhost', 'host_total_listings_count', 'host_about'}\n"
     ]
    }
   ]
  },
  {
   "cell_type": "markdown",
   "source": [
    "The listings dataset is larger than the calendar datset in terms of column size. It has 3818 rows and 92 columns. There are alot of columns that are of type 'object' but should be of type 'integer' or 'float'. "
   ],
   "metadata": {
    "id": "d1OcTG9eRWRF",
    "pycharm": {
     "name": "#%% md\n"
    }
   }
  },
  {
   "cell_type": "markdown",
   "source": [
    "##reviews data"
   ],
   "metadata": {
    "id": "1YlxEFLrYLjS",
    "pycharm": {
     "name": "#%% md\n"
    }
   }
  },
  {
   "cell_type": "code",
   "source": [
    "# peeking at the first few rows of the dataset\n",
    "reviews.head()"
   ],
   "metadata": {
    "colab": {
     "base_uri": "https://localhost:8080/"
    },
    "id": "k7C3-8WrYNj1",
    "outputId": "21952da0-d72b-4c8f-ff55-0f6ef7ff19bf",
    "pycharm": {
     "name": "#%%\n"
    }
   },
   "execution_count": null,
   "outputs": [
    {
     "output_type": "execute_result",
     "data": {
      "text/plain": [
       "   listing_id        id        date  reviewer_id reviewer_name  \\\n",
       "0     7202016  38917982  2015-07-19     28943674        Bianca   \n",
       "1     7202016  39087409  2015-07-20     32440555         Frank   \n",
       "2     7202016  39820030  2015-07-26     37722850           Ian   \n",
       "3     7202016  40813543  2015-08-02     33671805        George   \n",
       "4     7202016  41986501  2015-08-10     34959538          Ming   \n",
       "\n",
       "                                            comments  \n",
       "0  Cute and cozy place. Perfect location to every...  \n",
       "1  Kelly has a great room in a very central locat...  \n",
       "2  Very spacious apartment, and in a great neighb...  \n",
       "3  Close to Seattle Center and all it has to offe...  \n",
       "4  Kelly was a great host and very accommodating ...  "
      ],
      "text/html": [
       "\n",
       "  <div id=\"df-12de3417-9da4-4ed0-b4bc-ed3c81de5d9f\">\n",
       "    <div class=\"colab-df-container\">\n",
       "      <div>\n",
       "<style scoped>\n",
       "    .dataframe tbody tr th:only-of-type {\n",
       "        vertical-align: middle;\n",
       "    }\n",
       "\n",
       "    .dataframe tbody tr th {\n",
       "        vertical-align: top;\n",
       "    }\n",
       "\n",
       "    .dataframe thead th {\n",
       "        text-align: right;\n",
       "    }\n",
       "</style>\n",
       "<table border=\"1\" class=\"dataframe\">\n",
       "  <thead>\n",
       "    <tr style=\"text-align: right;\">\n",
       "      <th></th>\n",
       "      <th>listing_id</th>\n",
       "      <th>id</th>\n",
       "      <th>date</th>\n",
       "      <th>reviewer_id</th>\n",
       "      <th>reviewer_name</th>\n",
       "      <th>comments</th>\n",
       "    </tr>\n",
       "  </thead>\n",
       "  <tbody>\n",
       "    <tr>\n",
       "      <th>0</th>\n",
       "      <td>7202016</td>\n",
       "      <td>38917982</td>\n",
       "      <td>2015-07-19</td>\n",
       "      <td>28943674</td>\n",
       "      <td>Bianca</td>\n",
       "      <td>Cute and cozy place. Perfect location to every...</td>\n",
       "    </tr>\n",
       "    <tr>\n",
       "      <th>1</th>\n",
       "      <td>7202016</td>\n",
       "      <td>39087409</td>\n",
       "      <td>2015-07-20</td>\n",
       "      <td>32440555</td>\n",
       "      <td>Frank</td>\n",
       "      <td>Kelly has a great room in a very central locat...</td>\n",
       "    </tr>\n",
       "    <tr>\n",
       "      <th>2</th>\n",
       "      <td>7202016</td>\n",
       "      <td>39820030</td>\n",
       "      <td>2015-07-26</td>\n",
       "      <td>37722850</td>\n",
       "      <td>Ian</td>\n",
       "      <td>Very spacious apartment, and in a great neighb...</td>\n",
       "    </tr>\n",
       "    <tr>\n",
       "      <th>3</th>\n",
       "      <td>7202016</td>\n",
       "      <td>40813543</td>\n",
       "      <td>2015-08-02</td>\n",
       "      <td>33671805</td>\n",
       "      <td>George</td>\n",
       "      <td>Close to Seattle Center and all it has to offe...</td>\n",
       "    </tr>\n",
       "    <tr>\n",
       "      <th>4</th>\n",
       "      <td>7202016</td>\n",
       "      <td>41986501</td>\n",
       "      <td>2015-08-10</td>\n",
       "      <td>34959538</td>\n",
       "      <td>Ming</td>\n",
       "      <td>Kelly was a great host and very accommodating ...</td>\n",
       "    </tr>\n",
       "  </tbody>\n",
       "</table>\n",
       "</div>\n",
       "      <button class=\"colab-df-convert\" onclick=\"convertToInteractive('df-12de3417-9da4-4ed0-b4bc-ed3c81de5d9f')\"\n",
       "              title=\"Convert this dataframe to an interactive table.\"\n",
       "              style=\"display:none;\">\n",
       "        \n",
       "  <svg xmlns=\"http://www.w3.org/2000/svg\" height=\"24px\"viewBox=\"0 0 24 24\"\n",
       "       width=\"24px\">\n",
       "    <path d=\"M0 0h24v24H0V0z\" fill=\"none\"/>\n",
       "    <path d=\"M18.56 5.44l.94 2.06.94-2.06 2.06-.94-2.06-.94-.94-2.06-.94 2.06-2.06.94zm-11 1L8.5 8.5l.94-2.06 2.06-.94-2.06-.94L8.5 2.5l-.94 2.06-2.06.94zm10 10l.94 2.06.94-2.06 2.06-.94-2.06-.94-.94-2.06-.94 2.06-2.06.94z\"/><path d=\"M17.41 7.96l-1.37-1.37c-.4-.4-.92-.59-1.43-.59-.52 0-1.04.2-1.43.59L10.3 9.45l-7.72 7.72c-.78.78-.78 2.05 0 2.83L4 21.41c.39.39.9.59 1.41.59.51 0 1.02-.2 1.41-.59l7.78-7.78 2.81-2.81c.8-.78.8-2.07 0-2.86zM5.41 20L4 18.59l7.72-7.72 1.47 1.35L5.41 20z\"/>\n",
       "  </svg>\n",
       "      </button>\n",
       "      \n",
       "  <style>\n",
       "    .colab-df-container {\n",
       "      display:flex;\n",
       "      flex-wrap:wrap;\n",
       "      gap: 12px;\n",
       "    }\n",
       "\n",
       "    .colab-df-convert {\n",
       "      background-color: #E8F0FE;\n",
       "      border: none;\n",
       "      border-radius: 50%;\n",
       "      cursor: pointer;\n",
       "      display: none;\n",
       "      fill: #1967D2;\n",
       "      height: 32px;\n",
       "      padding: 0 0 0 0;\n",
       "      width: 32px;\n",
       "    }\n",
       "\n",
       "    .colab-df-convert:hover {\n",
       "      background-color: #E2EBFA;\n",
       "      box-shadow: 0px 1px 2px rgba(60, 64, 67, 0.3), 0px 1px 3px 1px rgba(60, 64, 67, 0.15);\n",
       "      fill: #174EA6;\n",
       "    }\n",
       "\n",
       "    [theme=dark] .colab-df-convert {\n",
       "      background-color: #3B4455;\n",
       "      fill: #D2E3FC;\n",
       "    }\n",
       "\n",
       "    [theme=dark] .colab-df-convert:hover {\n",
       "      background-color: #434B5C;\n",
       "      box-shadow: 0px 1px 3px 1px rgba(0, 0, 0, 0.15);\n",
       "      filter: drop-shadow(0px 1px 2px rgba(0, 0, 0, 0.3));\n",
       "      fill: #FFFFFF;\n",
       "    }\n",
       "  </style>\n",
       "\n",
       "      <script>\n",
       "        const buttonEl =\n",
       "          document.querySelector('#df-12de3417-9da4-4ed0-b4bc-ed3c81de5d9f button.colab-df-convert');\n",
       "        buttonEl.style.display =\n",
       "          google.colab.kernel.accessAllowed ? 'block' : 'none';\n",
       "\n",
       "        async function convertToInteractive(key) {\n",
       "          const element = document.querySelector('#df-12de3417-9da4-4ed0-b4bc-ed3c81de5d9f');\n",
       "          const dataTable =\n",
       "            await google.colab.kernel.invokeFunction('convertToInteractive',\n",
       "                                                     [key], {});\n",
       "          if (!dataTable) return;\n",
       "\n",
       "          const docLinkHtml = 'Like what you see? Visit the ' +\n",
       "            '<a target=\"_blank\" href=https://colab.research.google.com/notebooks/data_table.ipynb>data table notebook</a>'\n",
       "            + ' to learn more about interactive tables.';\n",
       "          element.innerHTML = '';\n",
       "          dataTable['output_type'] = 'display_data';\n",
       "          await google.colab.output.renderOutput(dataTable, element);\n",
       "          const docLink = document.createElement('div');\n",
       "          docLink.innerHTML = docLinkHtml;\n",
       "          element.appendChild(docLink);\n",
       "        }\n",
       "      </script>\n",
       "    </div>\n",
       "  </div>\n",
       "  "
      ]
     },
     "metadata": {},
     "execution_count": 14
    }
   ]
  },
  {
   "cell_type": "code",
   "source": [
    "# detailed summary of information about the datset\n",
    "reviews.info()"
   ],
   "metadata": {
    "colab": {
     "base_uri": "https://localhost:8080/"
    },
    "id": "xLjxzslPYRZ8",
    "outputId": "b42cfc1a-1922-4dad-f640-07eb4dae5f00",
    "pycharm": {
     "name": "#%%\n"
    }
   },
   "execution_count": null,
   "outputs": [
    {
     "output_type": "stream",
     "name": "stdout",
     "text": [
      "<class 'pandas.core.frame.DataFrame'>\n",
      "RangeIndex: 84849 entries, 0 to 84848\n",
      "Data columns (total 6 columns):\n",
      " #   Column         Non-Null Count  Dtype \n",
      "---  ------         --------------  ----- \n",
      " 0   listing_id     84849 non-null  int64 \n",
      " 1   id             84849 non-null  int64 \n",
      " 2   date           84849 non-null  object\n",
      " 3   reviewer_id    84849 non-null  int64 \n",
      " 4   reviewer_name  84849 non-null  object\n",
      " 5   comments       84831 non-null  object\n",
      "dtypes: int64(3), object(3)\n",
      "memory usage: 3.9+ MB\n"
     ]
    }
   ]
  },
  {
   "cell_type": "markdown",
   "source": [
    "The reviews dataset has 84849 rows and 6 columns. The **date** column can be splited into year, month and date for better access and analysis."
   ],
   "metadata": {
    "id": "fZw3i8iMTL9n",
    "pycharm": {
     "name": "#%% md\n"
    }
   }
  },
  {
   "cell_type": "code",
   "source": [
    "# No Missing Values\n",
    "no_missing_values = set(reviews.columns[reviews.isnull().mean() == 0])\n",
    "print(f'The following columns have no null values {no_missing_values}')\n",
    "\n",
    "# Missing Values\n",
    "missing_values = set(reviews.columns[reviews.isnull().mean() > 0])\n",
    "print(f'The following columns have null values {missing_values}')"
   ],
   "metadata": {
    "colab": {
     "base_uri": "https://localhost:8080/"
    },
    "id": "EvWAXxOzUZXr",
    "outputId": "242bad91-8fa6-414f-8d4f-90e4869115f1",
    "pycharm": {
     "name": "#%%\n"
    }
   },
   "execution_count": null,
   "outputs": [
    {
     "output_type": "stream",
     "name": "stdout",
     "text": [
      "The following columns have no null values {'date', 'reviewer_id', 'listing_id', 'reviewer_name', 'id'}\n",
      "The following columns have null values {'comments'}\n"
     ]
    }
   ]
  },
  {
   "cell_type": "code",
   "source": [
    "'''\n",
    "Data Cleaning for the dataset\n",
    "1. For the date column, split each date into its respective year, month and date\n",
    "'''\n",
    "\n",
    "reviews.date = pd.to_datetime(reviews.date)\n",
    "reviews['year'] = reviews['date'].dt.year\n",
    "reviews['month'] = reviews['date'].dt.month\n",
    "reviews['day'] = reviews['date'].dt.day"
   ],
   "metadata": {
    "id": "NNuxbMMZ4eLu",
    "pycharm": {
     "name": "#%%\n"
    }
   },
   "execution_count": null,
   "outputs": []
  },
  {
   "cell_type": "code",
   "source": [
    "reviews.head()"
   ],
   "metadata": {
    "colab": {
     "base_uri": "https://localhost:8080/"
    },
    "id": "3leAEmwPUony",
    "outputId": "64bb4d92-dcd4-4c5e-932f-983e49dd9cd8",
    "pycharm": {
     "name": "#%%\n"
    }
   },
   "execution_count": null,
   "outputs": [
    {
     "output_type": "execute_result",
     "data": {
      "text/plain": [
       "   listing_id        id       date  reviewer_id reviewer_name  \\\n",
       "0     7202016  38917982 2015-07-19     28943674        Bianca   \n",
       "1     7202016  39087409 2015-07-20     32440555         Frank   \n",
       "2     7202016  39820030 2015-07-26     37722850           Ian   \n",
       "3     7202016  40813543 2015-08-02     33671805        George   \n",
       "4     7202016  41986501 2015-08-10     34959538          Ming   \n",
       "\n",
       "                                            comments  year  month  day  \n",
       "0  Cute and cozy place. Perfect location to every...  2015      7   19  \n",
       "1  Kelly has a great room in a very central locat...  2015      7   20  \n",
       "2  Very spacious apartment, and in a great neighb...  2015      7   26  \n",
       "3  Close to Seattle Center and all it has to offe...  2015      8    2  \n",
       "4  Kelly was a great host and very accommodating ...  2015      8   10  "
      ],
      "text/html": [
       "\n",
       "  <div id=\"df-894241d6-9610-4dbb-9168-997bc12def16\">\n",
       "    <div class=\"colab-df-container\">\n",
       "      <div>\n",
       "<style scoped>\n",
       "    .dataframe tbody tr th:only-of-type {\n",
       "        vertical-align: middle;\n",
       "    }\n",
       "\n",
       "    .dataframe tbody tr th {\n",
       "        vertical-align: top;\n",
       "    }\n",
       "\n",
       "    .dataframe thead th {\n",
       "        text-align: right;\n",
       "    }\n",
       "</style>\n",
       "<table border=\"1\" class=\"dataframe\">\n",
       "  <thead>\n",
       "    <tr style=\"text-align: right;\">\n",
       "      <th></th>\n",
       "      <th>listing_id</th>\n",
       "      <th>id</th>\n",
       "      <th>date</th>\n",
       "      <th>reviewer_id</th>\n",
       "      <th>reviewer_name</th>\n",
       "      <th>comments</th>\n",
       "      <th>year</th>\n",
       "      <th>month</th>\n",
       "      <th>day</th>\n",
       "    </tr>\n",
       "  </thead>\n",
       "  <tbody>\n",
       "    <tr>\n",
       "      <th>0</th>\n",
       "      <td>7202016</td>\n",
       "      <td>38917982</td>\n",
       "      <td>2015-07-19</td>\n",
       "      <td>28943674</td>\n",
       "      <td>Bianca</td>\n",
       "      <td>Cute and cozy place. Perfect location to every...</td>\n",
       "      <td>2015</td>\n",
       "      <td>7</td>\n",
       "      <td>19</td>\n",
       "    </tr>\n",
       "    <tr>\n",
       "      <th>1</th>\n",
       "      <td>7202016</td>\n",
       "      <td>39087409</td>\n",
       "      <td>2015-07-20</td>\n",
       "      <td>32440555</td>\n",
       "      <td>Frank</td>\n",
       "      <td>Kelly has a great room in a very central locat...</td>\n",
       "      <td>2015</td>\n",
       "      <td>7</td>\n",
       "      <td>20</td>\n",
       "    </tr>\n",
       "    <tr>\n",
       "      <th>2</th>\n",
       "      <td>7202016</td>\n",
       "      <td>39820030</td>\n",
       "      <td>2015-07-26</td>\n",
       "      <td>37722850</td>\n",
       "      <td>Ian</td>\n",
       "      <td>Very spacious apartment, and in a great neighb...</td>\n",
       "      <td>2015</td>\n",
       "      <td>7</td>\n",
       "      <td>26</td>\n",
       "    </tr>\n",
       "    <tr>\n",
       "      <th>3</th>\n",
       "      <td>7202016</td>\n",
       "      <td>40813543</td>\n",
       "      <td>2015-08-02</td>\n",
       "      <td>33671805</td>\n",
       "      <td>George</td>\n",
       "      <td>Close to Seattle Center and all it has to offe...</td>\n",
       "      <td>2015</td>\n",
       "      <td>8</td>\n",
       "      <td>2</td>\n",
       "    </tr>\n",
       "    <tr>\n",
       "      <th>4</th>\n",
       "      <td>7202016</td>\n",
       "      <td>41986501</td>\n",
       "      <td>2015-08-10</td>\n",
       "      <td>34959538</td>\n",
       "      <td>Ming</td>\n",
       "      <td>Kelly was a great host and very accommodating ...</td>\n",
       "      <td>2015</td>\n",
       "      <td>8</td>\n",
       "      <td>10</td>\n",
       "    </tr>\n",
       "  </tbody>\n",
       "</table>\n",
       "</div>\n",
       "      <button class=\"colab-df-convert\" onclick=\"convertToInteractive('df-894241d6-9610-4dbb-9168-997bc12def16')\"\n",
       "              title=\"Convert this dataframe to an interactive table.\"\n",
       "              style=\"display:none;\">\n",
       "        \n",
       "  <svg xmlns=\"http://www.w3.org/2000/svg\" height=\"24px\"viewBox=\"0 0 24 24\"\n",
       "       width=\"24px\">\n",
       "    <path d=\"M0 0h24v24H0V0z\" fill=\"none\"/>\n",
       "    <path d=\"M18.56 5.44l.94 2.06.94-2.06 2.06-.94-2.06-.94-.94-2.06-.94 2.06-2.06.94zm-11 1L8.5 8.5l.94-2.06 2.06-.94-2.06-.94L8.5 2.5l-.94 2.06-2.06.94zm10 10l.94 2.06.94-2.06 2.06-.94-2.06-.94-.94-2.06-.94 2.06-2.06.94z\"/><path d=\"M17.41 7.96l-1.37-1.37c-.4-.4-.92-.59-1.43-.59-.52 0-1.04.2-1.43.59L10.3 9.45l-7.72 7.72c-.78.78-.78 2.05 0 2.83L4 21.41c.39.39.9.59 1.41.59.51 0 1.02-.2 1.41-.59l7.78-7.78 2.81-2.81c.8-.78.8-2.07 0-2.86zM5.41 20L4 18.59l7.72-7.72 1.47 1.35L5.41 20z\"/>\n",
       "  </svg>\n",
       "      </button>\n",
       "      \n",
       "  <style>\n",
       "    .colab-df-container {\n",
       "      display:flex;\n",
       "      flex-wrap:wrap;\n",
       "      gap: 12px;\n",
       "    }\n",
       "\n",
       "    .colab-df-convert {\n",
       "      background-color: #E8F0FE;\n",
       "      border: none;\n",
       "      border-radius: 50%;\n",
       "      cursor: pointer;\n",
       "      display: none;\n",
       "      fill: #1967D2;\n",
       "      height: 32px;\n",
       "      padding: 0 0 0 0;\n",
       "      width: 32px;\n",
       "    }\n",
       "\n",
       "    .colab-df-convert:hover {\n",
       "      background-color: #E2EBFA;\n",
       "      box-shadow: 0px 1px 2px rgba(60, 64, 67, 0.3), 0px 1px 3px 1px rgba(60, 64, 67, 0.15);\n",
       "      fill: #174EA6;\n",
       "    }\n",
       "\n",
       "    [theme=dark] .colab-df-convert {\n",
       "      background-color: #3B4455;\n",
       "      fill: #D2E3FC;\n",
       "    }\n",
       "\n",
       "    [theme=dark] .colab-df-convert:hover {\n",
       "      background-color: #434B5C;\n",
       "      box-shadow: 0px 1px 3px 1px rgba(0, 0, 0, 0.15);\n",
       "      filter: drop-shadow(0px 1px 2px rgba(0, 0, 0, 0.3));\n",
       "      fill: #FFFFFF;\n",
       "    }\n",
       "  </style>\n",
       "\n",
       "      <script>\n",
       "        const buttonEl =\n",
       "          document.querySelector('#df-894241d6-9610-4dbb-9168-997bc12def16 button.colab-df-convert');\n",
       "        buttonEl.style.display =\n",
       "          google.colab.kernel.accessAllowed ? 'block' : 'none';\n",
       "\n",
       "        async function convertToInteractive(key) {\n",
       "          const element = document.querySelector('#df-894241d6-9610-4dbb-9168-997bc12def16');\n",
       "          const dataTable =\n",
       "            await google.colab.kernel.invokeFunction('convertToInteractive',\n",
       "                                                     [key], {});\n",
       "          if (!dataTable) return;\n",
       "\n",
       "          const docLinkHtml = 'Like what you see? Visit the ' +\n",
       "            '<a target=\"_blank\" href=https://colab.research.google.com/notebooks/data_table.ipynb>data table notebook</a>'\n",
       "            + ' to learn more about interactive tables.';\n",
       "          element.innerHTML = '';\n",
       "          dataTable['output_type'] = 'display_data';\n",
       "          await google.colab.output.renderOutput(dataTable, element);\n",
       "          const docLink = document.createElement('div');\n",
       "          docLink.innerHTML = docLinkHtml;\n",
       "          element.appendChild(docLink);\n",
       "        }\n",
       "      </script>\n",
       "    </div>\n",
       "  </div>\n",
       "  "
      ]
     },
     "metadata": {},
     "execution_count": 18
    }
   ]
  },
  {
   "cell_type": "markdown",
   "source": [
    "#**Questions**\n",
    "1. Describe the vibe of each Seattle neighbourhood using listing descriptions.\n",
    "2. What are the busiest time of the year to visit Seattle? By how much do prices spike?\n",
    "3. Is there a general upward trend to both new Airbnb listings and total Airbnb visitors to Seattle?"
   ],
   "metadata": {
    "id": "Dfa_k3j6Yeqz",
    "pycharm": {
     "name": "#%% md\n"
    }
   }
  },
  {
   "cell_type": "markdown",
   "source": [
    "###1. Describe the vibe of each Seattle neighbourhood using listing descriptions.\n",
    "\n",
    "In the listings dataset, the neighbourhood column tells us the different neighbourhood in Seattle that have an Airbnb listing,we can use this column alongside the description column which describes the listings to tell us the vibe of the listings of these neighbourhoods.\n",
    "\n",
    "To get the vibe of the neighbourhood using description, we will need to do some text processing to understand what the main words describing the listings are."
   ],
   "metadata": {
    "id": "txOZcvmvYq3T",
    "pycharm": {
     "name": "#%% md\n"
    }
   }
  },
  {
   "cell_type": "code",
   "source": [
    "listings['neighbourhood'].value_counts()"
   ],
   "metadata": {
    "colab": {
     "base_uri": "https://localhost:8080/"
    },
    "id": "2wwroYR0X-2u",
    "outputId": "4009ff77-78e1-4beb-8b41-e9e9edb5b296",
    "pycharm": {
     "name": "#%%\n"
    }
   },
   "execution_count": null,
   "outputs": [
    {
     "output_type": "execute_result",
     "data": {
      "text/plain": [
       "Capitol Hill          351\n",
       "Ballard               213\n",
       "Belltown              204\n",
       "Minor                 192\n",
       "Queen Anne            187\n",
       "                     ... \n",
       "Pike Market             2\n",
       "South Park              2\n",
       "North College Park      1\n",
       "Fairmount Park          1\n",
       "Roxhill                 1\n",
       "Name: neighbourhood, Length: 81, dtype: int64"
      ]
     },
     "metadata": {},
     "execution_count": 19
    }
   ]
  },
  {
   "cell_type": "code",
   "source": [
    "'''\n",
    "Data Cleaning\n",
    "1. For the neighbourhood column, we take out the rows containing null values\n",
    "2. Create a new dataframe using the neighbourhood and description columns to \n",
    "   analyze the data and determine neighbourhood vibes.\n",
    "'''\n",
    "\n",
    "no_null_neighbourhood = listings.dropna(subset = ['neighbourhood'])\n",
    "no_null_neighbourhood = no_null_neighbourhood[['neighbourhood', 'description']]\n",
    "no_null_neighbourhood = no_null_neighbourhood.groupby('neighbourhood').agg(lambda id : id.tolist()).reset_index()\n",
    "\n",
    "no_null_neighbourhood.head()\n"
   ],
   "metadata": {
    "colab": {
     "base_uri": "https://localhost:8080/"
    },
    "id": "92-C2EVYLu96",
    "outputId": "d60794c5-e56c-4f27-dbb0-af7752f0b9b6",
    "pycharm": {
     "name": "#%%\n"
    }
   },
   "execution_count": null,
   "outputs": [
    {
     "output_type": "execute_result",
     "data": {
      "text/plain": [
       "   neighbourhood                                        description\n",
       "0           Alki  [ Alki Beach House located steps from Alki Bea...\n",
       "1  Arbor Heights  [Darling mother in law studio in quiet n'hood ...\n",
       "2       Atlantic  [New construction town home near Judkins Park....\n",
       "3        Ballard  [You'll feel right at home in our private entr...\n",
       "4       Belltown  [Enjoy modern luxury just a few minutes walk f..."
      ],
      "text/html": [
       "\n",
       "  <div id=\"df-6506cba1-e8f3-4daf-a1a9-c8c67a64287f\">\n",
       "    <div class=\"colab-df-container\">\n",
       "      <div>\n",
       "<style scoped>\n",
       "    .dataframe tbody tr th:only-of-type {\n",
       "        vertical-align: middle;\n",
       "    }\n",
       "\n",
       "    .dataframe tbody tr th {\n",
       "        vertical-align: top;\n",
       "    }\n",
       "\n",
       "    .dataframe thead th {\n",
       "        text-align: right;\n",
       "    }\n",
       "</style>\n",
       "<table border=\"1\" class=\"dataframe\">\n",
       "  <thead>\n",
       "    <tr style=\"text-align: right;\">\n",
       "      <th></th>\n",
       "      <th>neighbourhood</th>\n",
       "      <th>description</th>\n",
       "    </tr>\n",
       "  </thead>\n",
       "  <tbody>\n",
       "    <tr>\n",
       "      <th>0</th>\n",
       "      <td>Alki</td>\n",
       "      <td>[ Alki Beach House located steps from Alki Bea...</td>\n",
       "    </tr>\n",
       "    <tr>\n",
       "      <th>1</th>\n",
       "      <td>Arbor Heights</td>\n",
       "      <td>[Darling mother in law studio in quiet n'hood ...</td>\n",
       "    </tr>\n",
       "    <tr>\n",
       "      <th>2</th>\n",
       "      <td>Atlantic</td>\n",
       "      <td>[New construction town home near Judkins Park....</td>\n",
       "    </tr>\n",
       "    <tr>\n",
       "      <th>3</th>\n",
       "      <td>Ballard</td>\n",
       "      <td>[You'll feel right at home in our private entr...</td>\n",
       "    </tr>\n",
       "    <tr>\n",
       "      <th>4</th>\n",
       "      <td>Belltown</td>\n",
       "      <td>[Enjoy modern luxury just a few minutes walk f...</td>\n",
       "    </tr>\n",
       "  </tbody>\n",
       "</table>\n",
       "</div>\n",
       "      <button class=\"colab-df-convert\" onclick=\"convertToInteractive('df-6506cba1-e8f3-4daf-a1a9-c8c67a64287f')\"\n",
       "              title=\"Convert this dataframe to an interactive table.\"\n",
       "              style=\"display:none;\">\n",
       "        \n",
       "  <svg xmlns=\"http://www.w3.org/2000/svg\" height=\"24px\"viewBox=\"0 0 24 24\"\n",
       "       width=\"24px\">\n",
       "    <path d=\"M0 0h24v24H0V0z\" fill=\"none\"/>\n",
       "    <path d=\"M18.56 5.44l.94 2.06.94-2.06 2.06-.94-2.06-.94-.94-2.06-.94 2.06-2.06.94zm-11 1L8.5 8.5l.94-2.06 2.06-.94-2.06-.94L8.5 2.5l-.94 2.06-2.06.94zm10 10l.94 2.06.94-2.06 2.06-.94-2.06-.94-.94-2.06-.94 2.06-2.06.94z\"/><path d=\"M17.41 7.96l-1.37-1.37c-.4-.4-.92-.59-1.43-.59-.52 0-1.04.2-1.43.59L10.3 9.45l-7.72 7.72c-.78.78-.78 2.05 0 2.83L4 21.41c.39.39.9.59 1.41.59.51 0 1.02-.2 1.41-.59l7.78-7.78 2.81-2.81c.8-.78.8-2.07 0-2.86zM5.41 20L4 18.59l7.72-7.72 1.47 1.35L5.41 20z\"/>\n",
       "  </svg>\n",
       "      </button>\n",
       "      \n",
       "  <style>\n",
       "    .colab-df-container {\n",
       "      display:flex;\n",
       "      flex-wrap:wrap;\n",
       "      gap: 12px;\n",
       "    }\n",
       "\n",
       "    .colab-df-convert {\n",
       "      background-color: #E8F0FE;\n",
       "      border: none;\n",
       "      border-radius: 50%;\n",
       "      cursor: pointer;\n",
       "      display: none;\n",
       "      fill: #1967D2;\n",
       "      height: 32px;\n",
       "      padding: 0 0 0 0;\n",
       "      width: 32px;\n",
       "    }\n",
       "\n",
       "    .colab-df-convert:hover {\n",
       "      background-color: #E2EBFA;\n",
       "      box-shadow: 0px 1px 2px rgba(60, 64, 67, 0.3), 0px 1px 3px 1px rgba(60, 64, 67, 0.15);\n",
       "      fill: #174EA6;\n",
       "    }\n",
       "\n",
       "    [theme=dark] .colab-df-convert {\n",
       "      background-color: #3B4455;\n",
       "      fill: #D2E3FC;\n",
       "    }\n",
       "\n",
       "    [theme=dark] .colab-df-convert:hover {\n",
       "      background-color: #434B5C;\n",
       "      box-shadow: 0px 1px 3px 1px rgba(0, 0, 0, 0.15);\n",
       "      filter: drop-shadow(0px 1px 2px rgba(0, 0, 0, 0.3));\n",
       "      fill: #FFFFFF;\n",
       "    }\n",
       "  </style>\n",
       "\n",
       "      <script>\n",
       "        const buttonEl =\n",
       "          document.querySelector('#df-6506cba1-e8f3-4daf-a1a9-c8c67a64287f button.colab-df-convert');\n",
       "        buttonEl.style.display =\n",
       "          google.colab.kernel.accessAllowed ? 'block' : 'none';\n",
       "\n",
       "        async function convertToInteractive(key) {\n",
       "          const element = document.querySelector('#df-6506cba1-e8f3-4daf-a1a9-c8c67a64287f');\n",
       "          const dataTable =\n",
       "            await google.colab.kernel.invokeFunction('convertToInteractive',\n",
       "                                                     [key], {});\n",
       "          if (!dataTable) return;\n",
       "\n",
       "          const docLinkHtml = 'Like what you see? Visit the ' +\n",
       "            '<a target=\"_blank\" href=https://colab.research.google.com/notebooks/data_table.ipynb>data table notebook</a>'\n",
       "            + ' to learn more about interactive tables.';\n",
       "          element.innerHTML = '';\n",
       "          dataTable['output_type'] = 'display_data';\n",
       "          await google.colab.output.renderOutput(dataTable, element);\n",
       "          const docLink = document.createElement('div');\n",
       "          docLink.innerHTML = docLinkHtml;\n",
       "          element.appendChild(docLink);\n",
       "        }\n",
       "      </script>\n",
       "    </div>\n",
       "  </div>\n",
       "  "
      ]
     },
     "metadata": {},
     "execution_count": 20
    }
   ]
  },
  {
   "cell_type": "code",
   "source": [
    "# create a list containing all the different neighbourhoods\n",
    "neighbours_list = no_null_neighbourhood['neighbourhood'].tolist() \n",
    "print(neighbours_list)\n",
    "\n",
    "do_not_process = ['bedroom', 'apartment', 'bathroom', 'sqft', 'sq', 'ft', 'bed', 'beds', 'bath', 'br', 'ba']"
   ],
   "metadata": {
    "colab": {
     "base_uri": "https://localhost:8080/"
    },
    "id": "hCtbXrNiLygX",
    "outputId": "df895723-118a-45be-b073-6cb5335acf66",
    "pycharm": {
     "name": "#%%\n"
    }
   },
   "execution_count": null,
   "outputs": [
    {
     "output_type": "stream",
     "name": "stdout",
     "text": [
      "['Alki', 'Arbor Heights', 'Atlantic', 'Ballard', 'Belltown', 'Bitter Lake', 'Brighton', 'Broadview', 'Broadway', 'Bryant', 'Capitol Hill', 'Cedar Park', 'Central Business District', 'Columbia City', 'Crown Hill', 'Dunlap', 'Eastlake', 'Fairmount Park', 'Fauntleroy', 'First Hill', 'Fremont', 'Gatewood', 'Genesee', 'Georgetown', 'Green Lake', 'Greenwood', 'Haller Lake', 'Harrison/Denny-Blaine', 'High Point', 'Highland Park', 'Holly Park', 'Industrial District', 'Interbay', 'International District', 'Laurelhurst', 'Leschi', 'Licton Springs', 'Lower Queen Anne', 'Madison Park', 'Madrona', 'Magnolia', 'Maple Leaf', 'Mathews Beach', 'Meadowbrook', 'Minor', 'Montlake', 'Mount Baker', 'North Admiral', 'North Beach/Blue Ridge', 'North Beacon Hill', 'North College Park', 'North Delridge', 'Olympic Hills', 'Phinney Ridge', 'Pike Market', 'Pike Place Market', 'Pinehurst', 'Pioneer Square', 'Portage Bay', 'Queen Anne', 'Rainier Beach', 'Ravenna', 'Riverview', 'Roosevelt', 'Roxhill', 'Seaview', 'Seward Park', 'South Beacon Hill', 'South Delridge', 'South Lake Union', 'South Park', 'Stevens', 'The Junction', 'University District', 'Victory Heights', 'View Ridge', 'Wallingford', 'Wedgewood', 'Westlake', 'Windermere', 'Yesler Terrace']\n"
     ]
    }
   ]
  },
  {
   "cell_type": "markdown",
   "source": [
    "This function is used to pre-process the description text in order to extract the top words in the description"
   ],
   "metadata": {
    "id": "rgftFFfAloM0",
    "pycharm": {
     "name": "#%% md\n"
    }
   }
  },
  {
   "cell_type": "code",
   "source": [
    "def pre_process(description):\n",
    "\n",
    "  '''\n",
    "  INPUT:\n",
    "  description - the text you want pre-processed\n",
    "\n",
    "  OUTPUT:\n",
    "  processed_description - a list containing the words in decription without \n",
    "    a. punctuations\n",
    "    b. special characters\n",
    "    c. numbers\n",
    "    d. uppercase letters\n",
    "    e. spaces\n",
    "    f. words in the neighbors_list\n",
    "  '''\n",
    "  processed_description = []\n",
    "\n",
    "  for desc in description:\n",
    "    desc = desc.lower()\n",
    "    desc = re.sub(\"\",\"\",desc) \n",
    "\n",
    "    desc = re.sub('\\W+', ' ', desc)\n",
    "    desc = re.sub('\\d+', ' ', desc)\n",
    "    desc = desc.split()\n",
    "    \n",
    "    desc = ' '.join([word for word in desc if word not in (neighbours_list)])\n",
    "        \n",
    "    processed_description.append(desc)\n",
    "  return processed_description"
   ],
   "metadata": {
    "id": "98_7QiNAL4hB",
    "pycharm": {
     "name": "#%%\n"
    }
   },
   "execution_count": null,
   "outputs": []
  },
  {
   "cell_type": "code",
   "source": [
    "def top_words(desc):\n",
    "  '''\n",
    "  INPUT:\n",
    "  desc - text you want to extract top words from\n",
    "\n",
    "  OUTPUT:\n",
    "  words - list of five(7) words that are most frequent in text\n",
    "  '''\n",
    "  vectorizer = CountVectorizer(stop_words= 'english')\n",
    "  vectorizer.fit(desc)\n",
    "  vector = vectorizer.transform(desc)\n",
    "  \n",
    "  words = list(vectorizer.vocabulary_.keys())[:7]\n",
    "  return words"
   ],
   "metadata": {
    "id": "mvnyRUpWL6p8",
    "pycharm": {
     "name": "#%%\n"
    }
   },
   "execution_count": null,
   "outputs": []
  },
  {
   "cell_type": "code",
   "source": [
    "no_null_neighbourhood['description'] = no_null_neighbourhood['description'].apply(lambda desc : pre_process(desc))\n",
    "no_null_neighbourhood.head()"
   ],
   "metadata": {
    "colab": {
     "base_uri": "https://localhost:8080/"
    },
    "id": "_v7ow9zaL9DO",
    "outputId": "e9dd0f59-b8cc-4f8b-db38-091330a93133",
    "pycharm": {
     "name": "#%%\n"
    }
   },
   "execution_count": null,
   "outputs": [
    {
     "output_type": "execute_result",
     "data": {
      "text/plain": [
       "   neighbourhood                                        description\n",
       "0           Alki  [alki beach house located steps from alki beac...\n",
       "1  Arbor Heights  [darling mother in law studio in quiet n hood ...\n",
       "2       Atlantic  [new construction town home near judkins park ...\n",
       "3        Ballard  [you ll feel right at home in our private entr...\n",
       "4       Belltown  [enjoy modern luxury just a few minutes walk f..."
      ],
      "text/html": [
       "\n",
       "  <div id=\"df-41f4a2e0-7114-45a4-bb93-8c8fd2a76200\">\n",
       "    <div class=\"colab-df-container\">\n",
       "      <div>\n",
       "<style scoped>\n",
       "    .dataframe tbody tr th:only-of-type {\n",
       "        vertical-align: middle;\n",
       "    }\n",
       "\n",
       "    .dataframe tbody tr th {\n",
       "        vertical-align: top;\n",
       "    }\n",
       "\n",
       "    .dataframe thead th {\n",
       "        text-align: right;\n",
       "    }\n",
       "</style>\n",
       "<table border=\"1\" class=\"dataframe\">\n",
       "  <thead>\n",
       "    <tr style=\"text-align: right;\">\n",
       "      <th></th>\n",
       "      <th>neighbourhood</th>\n",
       "      <th>description</th>\n",
       "    </tr>\n",
       "  </thead>\n",
       "  <tbody>\n",
       "    <tr>\n",
       "      <th>0</th>\n",
       "      <td>Alki</td>\n",
       "      <td>[alki beach house located steps from alki beac...</td>\n",
       "    </tr>\n",
       "    <tr>\n",
       "      <th>1</th>\n",
       "      <td>Arbor Heights</td>\n",
       "      <td>[darling mother in law studio in quiet n hood ...</td>\n",
       "    </tr>\n",
       "    <tr>\n",
       "      <th>2</th>\n",
       "      <td>Atlantic</td>\n",
       "      <td>[new construction town home near judkins park ...</td>\n",
       "    </tr>\n",
       "    <tr>\n",
       "      <th>3</th>\n",
       "      <td>Ballard</td>\n",
       "      <td>[you ll feel right at home in our private entr...</td>\n",
       "    </tr>\n",
       "    <tr>\n",
       "      <th>4</th>\n",
       "      <td>Belltown</td>\n",
       "      <td>[enjoy modern luxury just a few minutes walk f...</td>\n",
       "    </tr>\n",
       "  </tbody>\n",
       "</table>\n",
       "</div>\n",
       "      <button class=\"colab-df-convert\" onclick=\"convertToInteractive('df-41f4a2e0-7114-45a4-bb93-8c8fd2a76200')\"\n",
       "              title=\"Convert this dataframe to an interactive table.\"\n",
       "              style=\"display:none;\">\n",
       "        \n",
       "  <svg xmlns=\"http://www.w3.org/2000/svg\" height=\"24px\"viewBox=\"0 0 24 24\"\n",
       "       width=\"24px\">\n",
       "    <path d=\"M0 0h24v24H0V0z\" fill=\"none\"/>\n",
       "    <path d=\"M18.56 5.44l.94 2.06.94-2.06 2.06-.94-2.06-.94-.94-2.06-.94 2.06-2.06.94zm-11 1L8.5 8.5l.94-2.06 2.06-.94-2.06-.94L8.5 2.5l-.94 2.06-2.06.94zm10 10l.94 2.06.94-2.06 2.06-.94-2.06-.94-.94-2.06-.94 2.06-2.06.94z\"/><path d=\"M17.41 7.96l-1.37-1.37c-.4-.4-.92-.59-1.43-.59-.52 0-1.04.2-1.43.59L10.3 9.45l-7.72 7.72c-.78.78-.78 2.05 0 2.83L4 21.41c.39.39.9.59 1.41.59.51 0 1.02-.2 1.41-.59l7.78-7.78 2.81-2.81c.8-.78.8-2.07 0-2.86zM5.41 20L4 18.59l7.72-7.72 1.47 1.35L5.41 20z\"/>\n",
       "  </svg>\n",
       "      </button>\n",
       "      \n",
       "  <style>\n",
       "    .colab-df-container {\n",
       "      display:flex;\n",
       "      flex-wrap:wrap;\n",
       "      gap: 12px;\n",
       "    }\n",
       "\n",
       "    .colab-df-convert {\n",
       "      background-color: #E8F0FE;\n",
       "      border: none;\n",
       "      border-radius: 50%;\n",
       "      cursor: pointer;\n",
       "      display: none;\n",
       "      fill: #1967D2;\n",
       "      height: 32px;\n",
       "      padding: 0 0 0 0;\n",
       "      width: 32px;\n",
       "    }\n",
       "\n",
       "    .colab-df-convert:hover {\n",
       "      background-color: #E2EBFA;\n",
       "      box-shadow: 0px 1px 2px rgba(60, 64, 67, 0.3), 0px 1px 3px 1px rgba(60, 64, 67, 0.15);\n",
       "      fill: #174EA6;\n",
       "    }\n",
       "\n",
       "    [theme=dark] .colab-df-convert {\n",
       "      background-color: #3B4455;\n",
       "      fill: #D2E3FC;\n",
       "    }\n",
       "\n",
       "    [theme=dark] .colab-df-convert:hover {\n",
       "      background-color: #434B5C;\n",
       "      box-shadow: 0px 1px 3px 1px rgba(0, 0, 0, 0.15);\n",
       "      filter: drop-shadow(0px 1px 2px rgba(0, 0, 0, 0.3));\n",
       "      fill: #FFFFFF;\n",
       "    }\n",
       "  </style>\n",
       "\n",
       "      <script>\n",
       "        const buttonEl =\n",
       "          document.querySelector('#df-41f4a2e0-7114-45a4-bb93-8c8fd2a76200 button.colab-df-convert');\n",
       "        buttonEl.style.display =\n",
       "          google.colab.kernel.accessAllowed ? 'block' : 'none';\n",
       "\n",
       "        async function convertToInteractive(key) {\n",
       "          const element = document.querySelector('#df-41f4a2e0-7114-45a4-bb93-8c8fd2a76200');\n",
       "          const dataTable =\n",
       "            await google.colab.kernel.invokeFunction('convertToInteractive',\n",
       "                                                     [key], {});\n",
       "          if (!dataTable) return;\n",
       "\n",
       "          const docLinkHtml = 'Like what you see? Visit the ' +\n",
       "            '<a target=\"_blank\" href=https://colab.research.google.com/notebooks/data_table.ipynb>data table notebook</a>'\n",
       "            + ' to learn more about interactive tables.';\n",
       "          element.innerHTML = '';\n",
       "          dataTable['output_type'] = 'display_data';\n",
       "          await google.colab.output.renderOutput(dataTable, element);\n",
       "          const docLink = document.createElement('div');\n",
       "          docLink.innerHTML = docLinkHtml;\n",
       "          element.appendChild(docLink);\n",
       "        }\n",
       "      </script>\n",
       "    </div>\n",
       "  </div>\n",
       "  "
      ]
     },
     "metadata": {},
     "execution_count": 24
    }
   ]
  },
  {
   "cell_type": "code",
   "source": [
    "no_null_neighbourhood['vibe'] = no_null_neighbourhood['description'].apply(lambda desc: top_words(desc))\n",
    "#neighbourhood_vibe = no_null_neighbourhood.drop('description', axis=1)\n",
    "#neighbourhood_vibe.head()\n",
    "no_null_neighbourhood.head()"
   ],
   "metadata": {
    "colab": {
     "base_uri": "https://localhost:8080/"
    },
    "id": "99GhdkZBMCUl",
    "outputId": "fe9f741c-03a7-4f8b-ec09-8ce88c9c1e80",
    "pycharm": {
     "name": "#%%\n"
    }
   },
   "execution_count": null,
   "outputs": [
    {
     "output_type": "execute_result",
     "data": {
      "text/plain": [
       "   neighbourhood                                        description  \\\n",
       "0           Alki  [alki beach house located steps from alki beac...   \n",
       "1  Arbor Heights  [darling mother in law studio in quiet n hood ...   \n",
       "2       Atlantic  [new construction town home near judkins park ...   \n",
       "3        Ballard  [you ll feel right at home in our private entr...   \n",
       "4       Belltown  [enjoy modern luxury just a few minutes walk f...   \n",
       "\n",
       "                                                vibe  \n",
       "0  [alki, beach, house, located, steps, love, sle...  \n",
       "1  [darling, mother, law, studio, quiet, hood, co...  \n",
       "2  [new, construction, town, home, near, judkins,...  \n",
       "3  [ll, feel, right, home, private, entrance, apa...  \n",
       "4  [enjoy, modern, luxury, just, minutes, walk, w...  "
      ],
      "text/html": [
       "\n",
       "  <div id=\"df-8caabf41-cf45-4137-8368-dded6a512887\">\n",
       "    <div class=\"colab-df-container\">\n",
       "      <div>\n",
       "<style scoped>\n",
       "    .dataframe tbody tr th:only-of-type {\n",
       "        vertical-align: middle;\n",
       "    }\n",
       "\n",
       "    .dataframe tbody tr th {\n",
       "        vertical-align: top;\n",
       "    }\n",
       "\n",
       "    .dataframe thead th {\n",
       "        text-align: right;\n",
       "    }\n",
       "</style>\n",
       "<table border=\"1\" class=\"dataframe\">\n",
       "  <thead>\n",
       "    <tr style=\"text-align: right;\">\n",
       "      <th></th>\n",
       "      <th>neighbourhood</th>\n",
       "      <th>description</th>\n",
       "      <th>vibe</th>\n",
       "    </tr>\n",
       "  </thead>\n",
       "  <tbody>\n",
       "    <tr>\n",
       "      <th>0</th>\n",
       "      <td>Alki</td>\n",
       "      <td>[alki beach house located steps from alki beac...</td>\n",
       "      <td>[alki, beach, house, located, steps, love, sle...</td>\n",
       "    </tr>\n",
       "    <tr>\n",
       "      <th>1</th>\n",
       "      <td>Arbor Heights</td>\n",
       "      <td>[darling mother in law studio in quiet n hood ...</td>\n",
       "      <td>[darling, mother, law, studio, quiet, hood, co...</td>\n",
       "    </tr>\n",
       "    <tr>\n",
       "      <th>2</th>\n",
       "      <td>Atlantic</td>\n",
       "      <td>[new construction town home near judkins park ...</td>\n",
       "      <td>[new, construction, town, home, near, judkins,...</td>\n",
       "    </tr>\n",
       "    <tr>\n",
       "      <th>3</th>\n",
       "      <td>Ballard</td>\n",
       "      <td>[you ll feel right at home in our private entr...</td>\n",
       "      <td>[ll, feel, right, home, private, entrance, apa...</td>\n",
       "    </tr>\n",
       "    <tr>\n",
       "      <th>4</th>\n",
       "      <td>Belltown</td>\n",
       "      <td>[enjoy modern luxury just a few minutes walk f...</td>\n",
       "      <td>[enjoy, modern, luxury, just, minutes, walk, w...</td>\n",
       "    </tr>\n",
       "  </tbody>\n",
       "</table>\n",
       "</div>\n",
       "      <button class=\"colab-df-convert\" onclick=\"convertToInteractive('df-8caabf41-cf45-4137-8368-dded6a512887')\"\n",
       "              title=\"Convert this dataframe to an interactive table.\"\n",
       "              style=\"display:none;\">\n",
       "        \n",
       "  <svg xmlns=\"http://www.w3.org/2000/svg\" height=\"24px\"viewBox=\"0 0 24 24\"\n",
       "       width=\"24px\">\n",
       "    <path d=\"M0 0h24v24H0V0z\" fill=\"none\"/>\n",
       "    <path d=\"M18.56 5.44l.94 2.06.94-2.06 2.06-.94-2.06-.94-.94-2.06-.94 2.06-2.06.94zm-11 1L8.5 8.5l.94-2.06 2.06-.94-2.06-.94L8.5 2.5l-.94 2.06-2.06.94zm10 10l.94 2.06.94-2.06 2.06-.94-2.06-.94-.94-2.06-.94 2.06-2.06.94z\"/><path d=\"M17.41 7.96l-1.37-1.37c-.4-.4-.92-.59-1.43-.59-.52 0-1.04.2-1.43.59L10.3 9.45l-7.72 7.72c-.78.78-.78 2.05 0 2.83L4 21.41c.39.39.9.59 1.41.59.51 0 1.02-.2 1.41-.59l7.78-7.78 2.81-2.81c.8-.78.8-2.07 0-2.86zM5.41 20L4 18.59l7.72-7.72 1.47 1.35L5.41 20z\"/>\n",
       "  </svg>\n",
       "      </button>\n",
       "      \n",
       "  <style>\n",
       "    .colab-df-container {\n",
       "      display:flex;\n",
       "      flex-wrap:wrap;\n",
       "      gap: 12px;\n",
       "    }\n",
       "\n",
       "    .colab-df-convert {\n",
       "      background-color: #E8F0FE;\n",
       "      border: none;\n",
       "      border-radius: 50%;\n",
       "      cursor: pointer;\n",
       "      display: none;\n",
       "      fill: #1967D2;\n",
       "      height: 32px;\n",
       "      padding: 0 0 0 0;\n",
       "      width: 32px;\n",
       "    }\n",
       "\n",
       "    .colab-df-convert:hover {\n",
       "      background-color: #E2EBFA;\n",
       "      box-shadow: 0px 1px 2px rgba(60, 64, 67, 0.3), 0px 1px 3px 1px rgba(60, 64, 67, 0.15);\n",
       "      fill: #174EA6;\n",
       "    }\n",
       "\n",
       "    [theme=dark] .colab-df-convert {\n",
       "      background-color: #3B4455;\n",
       "      fill: #D2E3FC;\n",
       "    }\n",
       "\n",
       "    [theme=dark] .colab-df-convert:hover {\n",
       "      background-color: #434B5C;\n",
       "      box-shadow: 0px 1px 3px 1px rgba(0, 0, 0, 0.15);\n",
       "      filter: drop-shadow(0px 1px 2px rgba(0, 0, 0, 0.3));\n",
       "      fill: #FFFFFF;\n",
       "    }\n",
       "  </style>\n",
       "\n",
       "      <script>\n",
       "        const buttonEl =\n",
       "          document.querySelector('#df-8caabf41-cf45-4137-8368-dded6a512887 button.colab-df-convert');\n",
       "        buttonEl.style.display =\n",
       "          google.colab.kernel.accessAllowed ? 'block' : 'none';\n",
       "\n",
       "        async function convertToInteractive(key) {\n",
       "          const element = document.querySelector('#df-8caabf41-cf45-4137-8368-dded6a512887');\n",
       "          const dataTable =\n",
       "            await google.colab.kernel.invokeFunction('convertToInteractive',\n",
       "                                                     [key], {});\n",
       "          if (!dataTable) return;\n",
       "\n",
       "          const docLinkHtml = 'Like what you see? Visit the ' +\n",
       "            '<a target=\"_blank\" href=https://colab.research.google.com/notebooks/data_table.ipynb>data table notebook</a>'\n",
       "            + ' to learn more about interactive tables.';\n",
       "          element.innerHTML = '';\n",
       "          dataTable['output_type'] = 'display_data';\n",
       "          await google.colab.output.renderOutput(dataTable, element);\n",
       "          const docLink = document.createElement('div');\n",
       "          docLink.innerHTML = docLinkHtml;\n",
       "          element.appendChild(docLink);\n",
       "        }\n",
       "      </script>\n",
       "    </div>\n",
       "  </div>\n",
       "  "
      ]
     },
     "metadata": {},
     "execution_count": 25
    }
   ]
  },
  {
   "cell_type": "code",
   "source": [
    "print(f'Seattle Neighbourhoods and their Vibes according to Seattle 2016 Airbnb Data')\n",
    "for i in range(len(no_null_neighbourhood)):\n",
    "  print(f'Neighbourhood : {no_null_neighbourhood[\"neighbourhood\"][i]}')\n",
    "  print(f'Vibes: {no_null_neighbourhood[\"vibe\"][i]} \\n')"
   ],
   "metadata": {
    "colab": {
     "base_uri": "https://localhost:8080/"
    },
    "id": "ZJ3pWAYwwzV3",
    "outputId": "100c23f1-2eab-4e8b-df47-7178b500ef3d",
    "pycharm": {
     "name": "#%%\n"
    }
   },
   "execution_count": null,
   "outputs": [
    {
     "output_type": "stream",
     "name": "stdout",
     "text": [
      "Seattle Neighbourhoods and their Vibes according to Seattle 2016 Airbnb Data\n",
      "Neighbourhood : Alki\n",
      "Vibes: ['alki', 'beach', 'house', 'located', 'steps', 'love', 'sleeps'] \n",
      "\n",
      "Neighbourhood : Arbor Heights\n",
      "Vibes: ['darling', 'mother', 'law', 'studio', 'quiet', 'hood', 'convenient'] \n",
      "\n",
      "Neighbourhood : Atlantic\n",
      "Vibes: ['new', 'construction', 'town', 'home', 'near', 'judkins', 'park'] \n",
      "\n",
      "Neighbourhood : Ballard\n",
      "Vibes: ['ll', 'feel', 'right', 'home', 'private', 'entrance', 'apartment'] \n",
      "\n",
      "Neighbourhood : Belltown\n",
      "Vibes: ['enjoy', 'modern', 'luxury', 'just', 'minutes', 'walk', 'washington'] \n",
      "\n",
      "Neighbourhood : Bitter Lake\n",
      "Vibes: ['spacious', 'bedroom', 'apartment', 'modern', 'clean', 'affordable', 'minute'] \n",
      "\n",
      "Neighbourhood : Brighton\n",
      "Vibes: ['private', 'apartment', 'basement', 'renovated', 'home', 'quiet', 'neighborhood'] \n",
      "\n",
      "Neighbourhood : Broadview\n",
      "Vibes: ['modern', 'beds', 'queens', 'twin', 'bedrooms', 'baths', 'dedicated'] \n",
      "\n",
      "Neighbourhood : Broadway\n",
      "Vibes: ['private', 'maximum', 'minutes', 'seattle', 'downtown', 'belltown', 'capitol'] \n",
      "\n",
      "Neighbourhood : Bryant\n",
      "Vibes: ['welcome', 'iris', 'bloom', 'bright', 'garden', 'level', 'apartment'] \n",
      "\n",
      "Neighbourhood : Capitol Hill\n",
      "Vibes: ['open', 'br', 'loft', 'private', 'patio', 'heart', 'capitol'] \n",
      "\n",
      "Neighbourhood : Cedar Park\n",
      "Vibes: ['charming', 'bedrooms', 'shy', 'sqft', 'house', 'close', 'matthew'] \n",
      "\n",
      "Neighbourhood : Central Business District\n",
      "Vibes: ['door', 'heart', 'soul', 'seattle', 'downtown', 'pike', 'place'] \n",
      "\n",
      "Neighbourhood : Columbia City\n",
      "Vibes: ['br', 'ba', 'home', 'sits', 'great', 'location', 'seattle'] \n",
      "\n",
      "Neighbourhood : Crown Hill\n",
      "Vibes: ['look', 'forward', 'welcoming', 'contemporary', 'suite', 'sitting', 'room'] \n",
      "\n",
      "Neighbourhood : Dunlap\n",
      "Vibes: ['comfortable', 'room', 'decorated', 'appreciation', 'sprockets', 'mechanical', 'situated'] \n",
      "\n",
      "Neighbourhood : Eastlake\n",
      "Vibes: ['entire', 'house', 'close', 'fabulous', 'views', 'await', 'seattle'] \n",
      "\n",
      "Neighbourhood : Fairmount Park\n",
      "Vibes: ['listings', 'firelight', 'studio', 'hummingbird', 'house', 'thorough', 'description'] \n",
      "\n",
      "Neighbourhood : Fauntleroy\n",
      "Vibes: ['level', 'square', 'foot', 'home', 'amazing', 'panoramic', 'views'] \n",
      "\n",
      "Neighbourhood : First Hill\n",
      "Vibes: ['come', 'relax', 'gorgeous', 'zen', 'style', 'city', 'retreat'] \n",
      "\n",
      "Neighbourhood : Fremont\n",
      "Vibes: ['charming', 'old', 'world', 'seattle', 'craftsman', 'home', 'spectacular'] \n",
      "\n",
      "Neighbourhood : Gatewood\n",
      "Vibes: ['private', 'room', 'semi', 'bath', 'new', 'townhouse', 'close'] \n",
      "\n",
      "Neighbourhood : Genesee\n",
      "Vibes: ['basement', 'suite', 'separate', 'entrance', 'bedroom', 'recreation', 'room'] \n",
      "\n",
      "Neighbourhood : Georgetown\n",
      "Vibes: ['amazing', 'vintage', 'room', 'posh', 'building', 'beds', 'comfy'] \n",
      "\n",
      "Neighbourhood : Green Lake\n",
      "Vibes: ['comfortable', 'stylish', 'home', 'short', 'walk', 'green', 'lake'] \n",
      "\n",
      "Neighbourhood : Greenwood\n",
      "Vibes: ['pacific', 'northwest', 'emerald', 'city', 'treat', 'peacefulness', 'situated'] \n",
      "\n",
      "Neighbourhood : Haller Lake\n",
      "Vibes: ['comfortable', 'town', 'home', 'true', 'city', 'feeling', 'comfortably'] \n",
      "\n",
      "Neighbourhood : Harrison/Denny-Blaine\n",
      "Vibes: ['comfortable', 'relaxing', 'bedroom', 'suite', 'heated', 'italian', 'travertine'] \n",
      "\n",
      "Neighbourhood : High Point\n",
      "Vibes: ['comfortable', 'quiet', 'airy', 'spot', 'seattle', 'business', 'vacation'] \n",
      "\n",
      "Neighbourhood : Highland Park\n",
      "Vibes: ['cozy', 'bedroom', 'studio', 'offers', 'private', 'garden', 'deck'] \n",
      "\n",
      "Neighbourhood : Holly Park\n",
      "Vibes: ['comfortable', 'bedroom', 'queen', 'bed', 'need', 'great', 'stay'] \n",
      "\n",
      "Neighbourhood : Industrial District\n",
      "Vibes: ['hotel', 'room', 'rent', 'car', 'wrapped', 'explore', 'northwest'] \n",
      "\n",
      "Neighbourhood : Interbay\n",
      "Vibes: ['cute', 'magnolia', 'house', 'just', 'minutes', 'downtown', 'chic'] \n",
      "\n",
      "Neighbourhood : International District\n",
      "Vibes: ['read', 'entire', 'listing', 'description', 'booking', 'thx', 'studio'] \n",
      "\n",
      "Neighbourhood : Laurelhurst\n",
      "Vibes: ['amenities', 'want', 'private', 'cottage', 'street', 'parking', 'boasts'] \n",
      "\n",
      "Neighbourhood : Leschi\n",
      "Vibes: ['stylish', 'comfortable', 'bd', 'ground', 'level', 'suite', 'sep'] \n",
      "\n",
      "Neighbourhood : Licton Springs\n",
      "Vibes: ['private', 'room', 'beautiful', 'remodeled', 'craftsman', 'convenient', 'greenlake'] \n",
      "\n",
      "Neighbourhood : Lower Queen Anne\n",
      "Vibes: ['bedroom', 'comes', 'shared', 'common', 'space', 'storage', 'ability'] \n",
      "\n",
      "Neighbourhood : Madison Park\n",
      "Vibes: ['gorgeous', 'bedroom', 'law', 'suite', 'located', 'seattle', 'desired'] \n",
      "\n",
      "Neighbourhood : Madrona\n",
      "Vibes: ['fenced', 'bd', 'ba', 'ranch', 'home', 'close', 'downtown'] \n",
      "\n",
      "Neighbourhood : Magnolia\n",
      "Vibes: ['house', 'just', 'miles', 'excitement', 'downtown', 'seattle', 'offers'] \n",
      "\n",
      "Neighbourhood : Maple Leaf\n",
      "Vibes: ['ve', 'written', 'home', 'danish', 'arabic', 'close', 'great'] \n",
      "\n",
      "Neighbourhood : Mathews Beach\n",
      "Vibes: ['comfortable', 'private', 'bedroom', 'available', 'twin', 'sized', 'bed'] \n",
      "\n",
      "Neighbourhood : Meadowbrook\n",
      "Vibes: ['artist', 'home', 'handmade', 'art', 'paintings', 'sculptures', 'sweet'] \n",
      "\n",
      "Neighbourhood : Minor\n",
      "Vibes: ['modern', 'floor', 'bedroom', 'private', 'bathroom', 'entry', 'second'] \n",
      "\n",
      "Neighbourhood : Montlake\n",
      "Vibes: ['spacious', 'bedroom', 'den', 'separate', 'entry', 'remodeled', 'craftsman'] \n",
      "\n",
      "Neighbourhood : Mount Baker\n",
      "Vibes: ['convenient', 'seattle', 'location', 'minutes', 'eastside', 'downtown', 'seatac'] \n",
      "\n",
      "Neighbourhood : North Admiral\n",
      "Vibes: ['great', 'home', 'play', 'field', 'hiking', 'park', 'blocks'] \n",
      "\n",
      "Neighbourhood : North Beach/Blue Ridge\n",
      "Vibes: ['charming', 'mid', 'century', 'modern', 'contemporary', 'furniture', 'sqft'] \n",
      "\n",
      "Neighbourhood : North Beacon Hill\n",
      "Vibes: ['best', 'space', 'travelling', 'couple', 'solo', 'traveler', 'half'] \n",
      "\n",
      "Neighbourhood : North College Park\n",
      "Vibes: ['occasionally', 'rent', 'place', 'vacation', 'selective', 'love', 'little'] \n",
      "\n",
      "Neighbourhood : North Delridge\n",
      "Vibes: ['room', 'bath', 'use', 'night', 'explore', 'city', 'day'] \n",
      "\n",
      "Neighbourhood : Olympic Hills\n",
      "Vibes: ['guest', 'bedroom', 'sweet', 'home', 'floor', 'private', 'quiet'] \n",
      "\n",
      "Neighbourhood : Phinney Ridge\n",
      "Vibes: ['enjoy', 'quintessential', 'ballard', 'bungalow', 'bedrooms', 'fully', 'stocked'] \n",
      "\n",
      "Neighbourhood : Pike Market\n",
      "Vibes: ['stay', 'downtown', 'best', 'location', 'going', 'parking', 'included'] \n",
      "\n",
      "Neighbourhood : Pike Place Market\n",
      "Vibes: ['cozy', 'apartment', 'stocked', 'amenities', 'high', 'speed', 'internet'] \n",
      "\n",
      "Neighbourhood : Pinehurst\n",
      "Vibes: ['contemporary', 'urban', 'apartment', 'lovely', 'setting', 'br', 'ba'] \n",
      "\n",
      "Neighbourhood : Pioneer Square\n",
      "Vibes: ['welcome', 'spacious', 'floor', 'loft', 'located', 'urban', 'pioneer'] \n",
      "\n",
      "Neighbourhood : Portage Bay\n",
      "Vibes: ['drop', 'peace', 'busy', 'centers', 'condo', 'short', 'walk'] \n",
      "\n",
      "Neighbourhood : Queen Anne\n",
      "Vibes: ['make', 'self', 'home', 'charming', 'bedroom', 'apartment', 'centrally'] \n",
      "\n",
      "Neighbourhood : Rainier Beach\n",
      "Vibes: ['spacious', 'guest', 'unit', 'perfect', 'groups', 'upstairs', 'room'] \n",
      "\n",
      "Neighbourhood : Ravenna\n",
      "Vibes: ['bright', 'totally', 'private', 'big', 'comfortable', 'apartment', 'surrounded'] \n",
      "\n",
      "Neighbourhood : Riverview\n",
      "Vibes: ['renovated', 'studio', 'guest', 'house', 'rent', 'beautiful', 'bamboo'] \n",
      "\n",
      "Neighbourhood : Roosevelt\n",
      "Vibes: ['private', 'entry', 'mother', 'law', 'apartment', 'lit', 'basement'] \n",
      "\n",
      "Neighbourhood : Roxhill\n",
      "Vibes: ['small', 'house', 'westwood', 'neighborhood', 'west', 'seattle', 'block'] \n",
      "\n",
      "Neighbourhood : Seaview\n",
      "Vibes: ['beautiful', 'spa', 'like', 'retreat', 'sauna', 'room', 'relax'] \n",
      "\n",
      "Neighbourhood : Seward Park\n",
      "Vibes: ['instant', 'book', 'total', 'nonsmoker', 'like', 'living', 'large'] \n",
      "\n",
      "Neighbourhood : South Beacon Hill\n",
      "Vibes: ['private', 'floor', 'house', 'sq', 'ft', 'south', 'beacon'] \n",
      "\n",
      "Neighbourhood : South Delridge\n",
      "Vibes: ['recently', 'remodeled', 'mid', 'century', 'home', 'squarely', 'located'] \n",
      "\n",
      "Neighbourhood : South Lake Union\n",
      "Vibes: ['unbeatable', 'location', 'brand', 'new', 'building', 'space', 'needle'] \n",
      "\n",
      "Neighbourhood : South Park\n",
      "Vibes: ['spacious', 'craftman', 'farmhouse', 'modern', 'updates', 'street', 'seattle'] \n",
      "\n",
      "Neighbourhood : Stevens\n",
      "Vibes: ['quaint', 'studio', 'located', 'best', 'capitol', 'hill', 'traditional'] \n",
      "\n",
      "Neighbourhood : The Junction\n",
      "Vibes: ['era', 'br', 'ba', 'townhouse', 'blocks', 'morgan', 'junction'] \n",
      "\n",
      "Neighbourhood : University District\n",
      "Vibes: ['basement', 'unit', 'shoji', 'screened', 'windows', 'allow', 'privacy'] \n",
      "\n",
      "Neighbourhood : Victory Heights\n",
      "Vibes: ['private', 'studio', 'sf', 'opens', 'beautiful', 'green', 'seattle'] \n",
      "\n",
      "Neighbourhood : View Ridge\n",
      "Vibes: ['private', 'room', 'scenic', 'view', 'lake', 'washington', 'near'] \n",
      "\n",
      "Neighbourhood : Wallingford\n",
      "Vibes: ['historic', 'recently', 'remodeled', 'house', 'corner', 'lot', 'heart'] \n",
      "\n",
      "Neighbourhood : Wedgewood\n",
      "Vibes: ['large', 'private', 'bedroom', 'bathroom', 'lovely', 'garden', 'view'] \n",
      "\n",
      "Neighbourhood : Westlake\n",
      "Vibes: ['amazing', 'lake', 'union', 'view', 'provides', 'soothing', 'close'] \n",
      "\n",
      "Neighbourhood : Windermere\n",
      "Vibes: ['lower', 'level', 'mother', 'law', 'apartment', 'bedroom', 'unit'] \n",
      "\n",
      "Neighbourhood : Yesler Terrace\n",
      "Vibes: ['lgbt', 'friendly', 'bedroom', 'bathroom', 'apartment', 'features', 'foot'] \n",
      "\n"
     ]
    }
   ]
  },
  {
   "cell_type": "markdown",
   "source": [
    "###2. What are the busiest time of the year to visit Seattle? By how much do prices spike?"
   ],
   "metadata": {
    "id": "tq_2BvR4xt21",
    "pycharm": {
     "name": "#%% md\n"
    }
   }
  },
  {
   "cell_type": "markdown",
   "source": [
    "In the calendar dataset, the **available** column can give us more insight in what times of the year are most busy to visit Seattle. The **price** column also can give insight into how prices spike over the year in Seattle AIrbnb listings."
   ],
   "metadata": {
    "id": "Onhv2SeAx781",
    "pycharm": {
     "name": "#%% md\n"
    }
   }
  },
  {
   "cell_type": "code",
   "source": [
    "# listings that are available\n",
    "available_listings = calendar[calendar.available != 0]\n",
    "\n",
    "# listings that are not available\n",
    "non_available_listings = calendar[calendar.available != 1]"
   ],
   "metadata": {
    "id": "1wgumz6Kxs4s",
    "pycharm": {
     "name": "#%%\n"
    }
   },
   "execution_count": null,
   "outputs": []
  },
  {
   "cell_type": "code",
   "source": [
    "available = calendar.groupby('month')['available'].mean()"
   ],
   "metadata": {
    "id": "ZZCmL4razyy1",
    "pycharm": {
     "name": "#%%\n"
    }
   },
   "execution_count": null,
   "outputs": []
  },
  {
   "cell_type": "code",
   "source": [
    "available.head(13)"
   ],
   "metadata": {
    "id": "D75bHFgB0pFu",
    "colab": {
     "base_uri": "https://localhost:8080/"
    },
    "outputId": "a9a12c38-f027-49d4-ef01-854665a5b285",
    "pycharm": {
     "name": "#%%\n"
    }
   },
   "execution_count": null,
   "outputs": [
    {
     "output_type": "execute_result",
     "data": {
      "text/plain": [
       "month\n",
       "1     0.554133\n",
       "2     0.662208\n",
       "3     0.709187\n",
       "4     0.663847\n",
       "5     0.675670\n",
       "6     0.674384\n",
       "7     0.627097\n",
       "8     0.645051\n",
       "9     0.674402\n",
       "10    0.696514\n",
       "11    0.713986\n",
       "12    0.735573\n",
       "Name: available, dtype: float64"
      ]
     },
     "metadata": {},
     "execution_count": 29
    }
   ]
  },
  {
   "cell_type": "code",
   "source": [
    "plt.figure(figsize = (7.5,5))\n",
    "plt.plot(available, color = 'black')\n",
    "plt.xticks([1, 2, 3, 4, 5, 6, 7, 8, 9, 10, 11, 12],['Jan', 'Feb', 'Mar', 'Apr', 'May', 'Jun', 'Jul', 'Aug', 'Sep', 'Oct', 'Nov', 'Dec'])\n",
    "plt.xlabel(\"Month\")\n",
    "plt.ylabel(\"Availability Rate\")\n",
    "plt.title('Availability Rate by Month')\n",
    "plt.show()"
   ],
   "metadata": {
    "id": "SG-dHn_nz3AZ",
    "colab": {
     "base_uri": "https://localhost:8080/"
    },
    "outputId": "4dc4b7d0-c90d-4866-d8d0-70a26d5163ec",
    "pycharm": {
     "name": "#%%\n"
    }
   },
   "execution_count": null,
   "outputs": [
    {
     "output_type": "display_data",
     "data": {
      "text/plain": [
       "<Figure size 540x360 with 1 Axes>"
      ],
      "image/png": "[encoded data removed]"
     },
     "metadata": {
      "needs_background": "light"
     }
    }
   ]
  },
  {
   "cell_type": "markdown",
   "source": [
    "From the above plot, listings are less available in the month of January and July indicating the month of January July could be the busiest months of the year in Seattle."
   ],
   "metadata": {
    "id": "fXu9kJEm950y",
    "pycharm": {
     "name": "#%% md\n"
    }
   }
  },
  {
   "cell_type": "markdown",
   "source": [
    "Now, let's take a look at how the price flunctuate through the months."
   ],
   "metadata": {
    "id": "ZylAGBy7-sLU",
    "pycharm": {
     "name": "#%% md\n"
    }
   }
  },
  {
   "cell_type": "code",
   "source": [
    "avg_price_monthly = available_listings.groupby('month')['price'].mean()"
   ],
   "metadata": {
    "id": "rR37YIVj2Vql",
    "pycharm": {
     "name": "#%%\n"
    }
   },
   "execution_count": null,
   "outputs": []
  },
  {
   "cell_type": "code",
   "source": [
    "avg_price_monthly.head(13)"
   ],
   "metadata": {
    "id": "Uxuozhws2de0",
    "colab": {
     "base_uri": "https://localhost:8080/"
    },
    "outputId": "db55363d-d606-4042-829b-148590f4409b",
    "pycharm": {
     "name": "#%%\n"
    }
   },
   "execution_count": null,
   "outputs": [
    {
     "output_type": "execute_result",
     "data": {
      "text/plain": [
       "month\n",
       "1     121.568409\n",
       "2     124.293927\n",
       "3     128.644488\n",
       "4     135.097005\n",
       "5     139.538183\n",
       "6     147.473137\n",
       "7     152.094150\n",
       "8     150.656594\n",
       "9     143.255949\n",
       "10    137.031939\n",
       "11    135.688738\n",
       "12    137.251835\n",
       "Name: price, dtype: float64"
      ]
     },
     "metadata": {},
     "execution_count": 32
    }
   ]
  },
  {
   "cell_type": "code",
   "source": [
    "plt.figure(figsize = (7.5,5))\n",
    "plt.plot(avg_price_monthly, color = 'black')\n",
    "plt.xticks([1, 2, 3, 4, 5, 6, 7, 8, 9, 10, 11, 12],['Jan', 'Feb', 'Mar', 'Apr', 'May', 'Jun', 'Jul', 'Aug', 'Sep', 'Oct', 'Nov', 'Dec'])\n",
    "plt.xlabel(\"Month\")\n",
    "plt.ylabel(\"Average Price\")\n",
    "plt.title('Average Price per Month')\n",
    "plt.show()"
   ],
   "metadata": {
    "id": "WX7cElBg2e0j",
    "colab": {
     "base_uri": "https://localhost:8080/"
    },
    "outputId": "5acd9e66-67cf-49b3-d6ee-0d1ab31e37f8",
    "pycharm": {
     "name": "#%%\n"
    }
   },
   "execution_count": null,
   "outputs": [
    {
     "output_type": "display_data",
     "data": {
      "text/plain": [
       "<Figure size 540x360 with 1 Axes>"
      ],
      "image/png": "[encoded data removed]"
     },
     "metadata": {
      "needs_background": "light"
     }
    }
   ]
  },
  {
   "cell_type": "markdown",
   "source": [
    "From the above plot, the month of July has a high spike in average price and indicates that listings are most expensive in the month of July. Prices are lower in the months of January, February, March, April, November.\n",
    "\n",
    "---\n",
    "\n"
   ],
   "metadata": {
    "id": "KiIexuJ1-1IF",
    "pycharm": {
     "name": "#%% md\n"
    }
   }
  },
  {
   "cell_type": "markdown",
   "source": [
    "*` From the information gotten from the two plots above, we can deduce that the busiest time of the year for Seattle Airbnb 2016 is July because listings availability is at its lowest and average listing prices is at its highest in the same month.`*\n",
    "\n"
   ],
   "metadata": {
    "id": "6rm47lTY_njK",
    "pycharm": {
     "name": "#%% md\n"
    }
   }
  },
  {
   "cell_type": "markdown",
   "source": [
    "###3. Is there a general upward trend to both new Airbnb listings and total Airbnb visitors to Seattle?"
   ],
   "metadata": {
    "id": "zXuwiKMB3a3R",
    "pycharm": {
     "name": "#%% md\n"
    }
   }
  },
  {
   "cell_type": "markdown",
   "source": [
    "**Upward trend to new Airbnb listings**\n",
    "> In the listings dataset, the column **host-since** gives information about the first year the listing was published on Airbnb. We can use this column information to know the trend about Airbnb listings in Seattle.\n",
    "\n"
   ],
   "metadata": {
    "id": "rg-QXjTi3i2j",
    "pycharm": {
     "name": "#%% md\n"
    }
   }
  },
  {
   "cell_type": "code",
   "source": [
    "'''\n",
    "From the host-since column, we can extract the year the listing was first \n",
    "created and count the amount of listings created for each year and create \n",
    "the plot.\n",
    "'''\n",
    "listings.host_since = pd.to_datetime(listings.host_since)\n",
    "\n",
    "listings['host_since_year'] = listings['host_since'].dt.year\n",
    "trend = listings['host_since_year'].value_counts().sort_index()"
   ],
   "metadata": {
    "id": "9NlMyQPG3faY",
    "pycharm": {
     "name": "#%%\n"
    }
   },
   "execution_count": null,
   "outputs": []
  },
  {
   "cell_type": "code",
   "source": [
    "trend.head()"
   ],
   "metadata": {
    "id": "AQWgDfuR4F9X",
    "colab": {
     "base_uri": "https://localhost:8080/"
    },
    "outputId": "183cc320-ae18-4d83-f98c-bfe9dcf174bd",
    "pycharm": {
     "name": "#%%\n"
    }
   },
   "execution_count": null,
   "outputs": [
    {
     "output_type": "execute_result",
     "data": {
      "text/plain": [
       "2008.0      4\n",
       "2009.0     64\n",
       "2010.0    149\n",
       "2011.0    398\n",
       "2012.0    539\n",
       "Name: host_since_year, dtype: int64"
      ]
     },
     "metadata": {},
     "execution_count": 35
    }
   ]
  },
  {
   "cell_type": "code",
   "source": [
    "plt.figure(figsize = (7.5,5))\n",
    "plt.plot(trend, color = 'black')\n",
    "plt.xlabel('Year')\n",
    "plt.title('Number of New Listings')\n",
    "plt.show()"
   ],
   "metadata": {
    "id": "QhZ6Oryn4Ek0",
    "colab": {
     "base_uri": "https://localhost:8080/"
    },
    "outputId": "9d1b1145-bb33-4287-d43d-88c311d476cc",
    "pycharm": {
     "name": "#%%\n"
    }
   },
   "execution_count": null,
   "outputs": [
    {
     "output_type": "display_data",
     "data": {
      "text/plain": [
       "<Figure size 540x360 with 1 Axes>"
      ],
      "image/png": "[encoded data removed]"
     },
     "metadata": {
      "needs_background": "light"
     }
    }
   ]
  },
  {
   "cell_type": "markdown",
   "source": [
    "From the above plot, we can deduce that there is a definite rise in the amount of Airbnb listings over the years. The numbers have increased notably from 2008-2015. For 2016, the number of new listings is especially low, this can be due to the fact that information about 2016 listings was still being collected as at the time this dataset was published. We can therefore assume that the data for 2016 is incomplete.\n",
    "\n",
    "---\n",
    "\n"
   ],
   "metadata": {
    "id": "V8PlHf9mG277",
    "pycharm": {
     "name": "#%% md\n"
    }
   }
  },
  {
   "cell_type": "markdown",
   "source": [
    "**Upward trend to Airbnb visitor to Seattle**\n",
    "\n",
    "\n",
    "> In the reviews dataset, we can group the total number of reviews by year and plot the values to see if there has been a decreasing or increasing trend in the number of reviews. This information can also tell us if there has been an upward trend to the number of visitors to Seattle because reviews are mainly written by visitors.\n"
   ],
   "metadata": {
    "id": "pQziHwXa4QQ0",
    "pycharm": {
     "name": "#%% md\n"
    }
   }
  },
  {
   "cell_type": "code",
   "source": [
    "review_count_by_year  = reviews.groupby('year')['id'].count()\n",
    "\n",
    "review_count_by_year.head(10)"
   ],
   "metadata": {
    "id": "5JfiESt2UA-v",
    "colab": {
     "base_uri": "https://localhost:8080/"
    },
    "outputId": "c32fe1a2-ce9e-490c-c6d7-387b4ec33f90",
    "pycharm": {
     "name": "#%%\n"
    }
   },
   "execution_count": null,
   "outputs": [
    {
     "output_type": "execute_result",
     "data": {
      "text/plain": [
       "year\n",
       "2009       17\n",
       "2010      254\n",
       "2011     1169\n",
       "2012     3251\n",
       "2013     7077\n",
       "2014    20365\n",
       "2015    52493\n",
       "2016      223\n",
       "Name: id, dtype: int64"
      ]
     },
     "metadata": {},
     "execution_count": 37
    }
   ]
  },
  {
   "cell_type": "code",
   "source": [
    "review_count_by_year = review_count_by_year.to_frame().reset_index()"
   ],
   "metadata": {
    "id": "oPs8Dqhp4geK",
    "pycharm": {
     "name": "#%%\n"
    }
   },
   "execution_count": null,
   "outputs": []
  },
  {
   "cell_type": "code",
   "source": [
    "review_count_by_year.info()"
   ],
   "metadata": {
    "id": "QqAeL5VG4im1",
    "colab": {
     "base_uri": "https://localhost:8080/"
    },
    "outputId": "5e9e9c64-ab35-4247-c8f1-bec278cad17c",
    "pycharm": {
     "name": "#%%\n"
    }
   },
   "execution_count": null,
   "outputs": [
    {
     "output_type": "stream",
     "name": "stdout",
     "text": [
      "<class 'pandas.core.frame.DataFrame'>\n",
      "RangeIndex: 8 entries, 0 to 7\n",
      "Data columns (total 2 columns):\n",
      " #   Column  Non-Null Count  Dtype\n",
      "---  ------  --------------  -----\n",
      " 0   year    8 non-null      int64\n",
      " 1   id      8 non-null      int64\n",
      "dtypes: int64(2)\n",
      "memory usage: 256.0 bytes\n"
     ]
    }
   ]
  },
  {
   "cell_type": "code",
   "source": [
    "plt.figure(figsize = (7.5,5))\n",
    "plt.plot(review_count_by_year['year'], review_count_by_year['id'], color = 'black')\n",
    "plt.xlabel('Year')\n",
    "plt.ylabel('Number of Reviews')\n",
    "plt.title('Number of Reviews over the years')\n",
    "plt.show()"
   ],
   "metadata": {
    "id": "BGAa6LE54kxX",
    "colab": {
     "base_uri": "https://localhost:8080/"
    },
    "outputId": "472308ae-9ad3-4be1-a38a-4d1ec6916a5e",
    "pycharm": {
     "name": "#%%\n"
    }
   },
   "execution_count": null,
   "outputs": [
    {
     "output_type": "display_data",
     "data": {
      "text/plain": [
       "<Figure size 540x360 with 1 Axes>"
      ],
      "image/png": "[encoded data removed]"
     },
     "metadata": {
      "needs_background": "light"
     }
    }
   ]
  },
  {
   "cell_type": "markdown",
   "source": [
    "From the above plot, we can deduce that there has been an upward trend in the number of visitors to Seattle from 2009-2015. We notice there is a drastic downfall for 2016, this can be due to the fact that at the time of publishing the dataset, information about reviews for 2016 listings was still being collected and the data was incomplete.\n",
    "\n",
    "---\n",
    "\n"
   ],
   "metadata": {
    "id": "ecUQIIrzI50a",
    "pycharm": {
     "name": "#%% md\n"
    }
   }
  }
 ]
}